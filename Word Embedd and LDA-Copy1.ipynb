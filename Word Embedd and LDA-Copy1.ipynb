{
 "cells": [
  {
   "cell_type": "code",
   "execution_count": 1,
   "metadata": {
    "collapsed": true
   },
   "outputs": [],
   "source": [
    "# Step 1 Read in data\n",
    "# Step 2 Preprocess text data\n",
    "# Step 3 Word Embedding\n",
    "# Step 4 LDA"
   ]
  },
  {
   "cell_type": "code",
   "execution_count": 25,
   "metadata": {},
   "outputs": [
    {
     "ename": "SyntaxError",
     "evalue": "invalid syntax (<ipython-input-25-f6401eb890a1>, line 1)",
     "output_type": "error",
     "traceback": [
      "\u001b[1;36m  File \u001b[1;32m\"<ipython-input-25-f6401eb890a1>\"\u001b[1;36m, line \u001b[1;32m1\u001b[0m\n\u001b[1;33m    pip install git+https://github.com/bmabey/pyLDAvis.git@master#egg=pyLDAvis\u001b[0m\n\u001b[1;37m              ^\u001b[0m\n\u001b[1;31mSyntaxError\u001b[0m\u001b[1;31m:\u001b[0m invalid syntax\n"
     ]
    }
   ],
   "source": [
    "pip install git+https://github.com/bmabey/pyLDAvis.git@master#egg=pyLDAvis"
   ]
  },
  {
   "cell_type": "code",
   "execution_count": 1,
   "metadata": {
    "collapsed": true
   },
   "outputs": [],
   "source": [
    "import pandas as pd\n",
    "import matplotlib.pyplot as plt\n",
    "from nltk.corpus import stopwords\n",
    "stop = stopwords.words('english')\n",
    "import re"
   ]
  },
  {
   "cell_type": "code",
   "execution_count": 2,
   "metadata": {
    "collapsed": true
   },
   "outputs": [],
   "source": [
    "yelp=pd.read_csv('all_data20180608.csv')"
   ]
  },
  {
   "cell_type": "code",
   "execution_count": 3,
   "metadata": {
    "collapsed": true
   },
   "outputs": [],
   "source": [
    "# PreProcessing\n",
    "#step 1 lower case\n",
    "#step 2 punctuation\n",
    "#step 3 stop word\n",
    "#step 4 common word removal\n",
    "#step 5 rare word removal\n",
    "#step 6 token\n",
    "#step 7 stemming\n",
    "#step 8 lemma"
   ]
  },
  {
   "cell_type": "code",
   "execution_count": 4,
   "metadata": {},
   "outputs": [
    {
     "data": {
      "text/plain": [
       "0    my friend gabi, i love your cute parisian inte...\n",
       "1     had a good waiter, all the staff were very cool.\n",
       "2    my only regret is not catching the name of our...\n",
       "3    lotus of siam did not disappoint, the service ...\n",
       "4    his name is carlos if you ever want to request...\n",
       "Name: lower, dtype: object"
      ]
     },
     "execution_count": 4,
     "metadata": {},
     "output_type": "execute_result"
    }
   ],
   "source": [
    "yelp['lower'] = yelp.text.apply(lambda x: \" \".join(x.lower() for x in x.split()))\n",
    "yelp.lower.head()"
   ]
  },
  {
   "cell_type": "code",
   "execution_count": 5,
   "metadata": {},
   "outputs": [
    {
     "data": {
      "text/plain": [
       "0    my friend gabi i love your cute parisian inter...\n",
       "1       had a good waiter all the staff were very cool\n",
       "2    my only regret is not catching the name of our...\n",
       "3    lotus of siam did not disappoint the service w...\n",
       "4    his name is carlos if you ever want to request...\n",
       "Name: no_punc, dtype: object"
      ]
     },
     "execution_count": 5,
     "metadata": {},
     "output_type": "execute_result"
    }
   ],
   "source": [
    "from nltk.tokenize import RegexpTokenizer\n",
    "reg_tok = RegexpTokenizer(r'\\w+')#+ is one or more\n",
    "yelp['no_punc'] = yelp['lower'].apply(lambda x: ' '.join(reg_tok.tokenize(x)))\n",
    "yelp.no_punc.head()"
   ]
  },
  {
   "cell_type": "code",
   "execution_count": 6,
   "metadata": {},
   "outputs": [
    {
     "data": {
      "text/plain": [
       "0    friend gabi love cute parisian interior dim li...\n",
       "1                               good waiter staff cool\n",
       "2    regret catching name server best experienced f...\n",
       "3        lotus siam disappoint service great attentive\n",
       "4          name carlos ever want request service great\n",
       "Name: no_stop, dtype: object"
      ]
     },
     "execution_count": 6,
     "metadata": {},
     "output_type": "execute_result"
    }
   ],
   "source": [
    "yelp['no_stop'] = yelp['no_punc'].apply(lambda x: \" \".join(x for x in x.split() if x not in stop))\n",
    "yelp.no_stop.head()"
   ]
  },
  {
   "cell_type": "code",
   "execution_count": 7,
   "metadata": {},
   "outputs": [
    {
     "data": {
      "text/plain": [
       "food          3504\n",
       "good          1925\n",
       "buffet        1556\n",
       "service       1554\n",
       "great         1365\n",
       "place         1111\n",
       "vegas          882\n",
       "like           764\n",
       "restaurant     656\n",
       "one            642\n",
       "get            641\n",
       "best           635\n",
       "really         625\n",
       "quality        611\n",
       "price          596\n",
       "would          552\n",
       "time           539\n",
       "go             539\n",
       "selection      470\n",
       "better         463\n",
       "dtype: int64"
      ]
     },
     "execution_count": 7,
     "metadata": {},
     "output_type": "execute_result"
    }
   ],
   "source": [
    "freq = pd.Series(' '.join(yelp['no_stop']).split()).value_counts()[:20]#combining all rows and then splitting and converitign and value count\n",
    "freq\n",
    "#looking at these, we actually want to keep them so no need to carry out this step"
   ]
  },
  {
   "cell_type": "code",
   "execution_count": 8,
   "metadata": {},
   "outputs": [
    {
     "data": {
      "text/plain": [
       "plunk            1\n",
       "mixing           1\n",
       "cruz             1\n",
       "wold             1\n",
       "gruelingly       1\n",
       "unagi            1\n",
       "miraculously     1\n",
       "fam              1\n",
       "expresso         1\n",
       "capulet          1\n",
       "unwilling        1\n",
       "posters          1\n",
       "streamlined      1\n",
       "retter           1\n",
       "slathered        1\n",
       "ons              1\n",
       "rachel           1\n",
       "mascarpone       1\n",
       "showcase         1\n",
       "banned           1\n",
       "prob             1\n",
       "dismantled       1\n",
       "resign           1\n",
       "occurrence       1\n",
       "con              1\n",
       "tack             1\n",
       "themes           1\n",
       "dispute          1\n",
       "reduce           1\n",
       "slushly          1\n",
       "                ..\n",
       "gargle           1\n",
       "highway          1\n",
       "shopper          1\n",
       "nicole           1\n",
       "circumstances    1\n",
       "7am              1\n",
       "device           1\n",
       "prima            1\n",
       "middling         1\n",
       "surrounded       1\n",
       "scooping         1\n",
       "overpowered      1\n",
       "cus              1\n",
       "swallowing       1\n",
       "mondays          1\n",
       "borgata          1\n",
       "feathers         1\n",
       "missy            1\n",
       "lemons           1\n",
       "unfortuantely    1\n",
       "vul              1\n",
       "unhealthy        1\n",
       "whereas          1\n",
       "cobbler          1\n",
       "cancel           1\n",
       "crunchier        1\n",
       "spacing          1\n",
       "runned           1\n",
       "lakeside         1\n",
       "tvs              1\n",
       "Length: 600, dtype: int64"
      ]
     },
     "execution_count": 8,
     "metadata": {},
     "output_type": "execute_result"
    }
   ],
   "source": [
    "rare = pd.Series(' '.join(yelp['no_stop']).split()).value_counts()[-600:]\n",
    "rare\n"
   ]
  },
  {
   "cell_type": "code",
   "execution_count": 9,
   "metadata": {
    "collapsed": true
   },
   "outputs": [],
   "source": [
    "rare = list(rare.index)\n",
    "yelp['no_rare'] = yelp['no_stop'].apply(lambda x: \" \".join(x for x in x.split() if x not in rare))\n"
   ]
  },
  {
   "cell_type": "code",
   "execution_count": 10,
   "metadata": {},
   "outputs": [
    {
     "data": {
      "text/plain": [
       "0    friend gave love cut parisian interior dim lig...\n",
       "1                               good waiter staff cool\n",
       "2    regret catching name server best experienced f...\n",
       "3         lots siam disappoint service great attentive\n",
       "4           name carlo ever want request service great\n",
       "Name: no_stop, dtype: object"
      ]
     },
     "execution_count": 10,
     "metadata": {},
     "output_type": "execute_result"
    }
   ],
   "source": [
    "from textblob import TextBlob\n",
    "# not really doing that for tutorial, this is just demo of it\n",
    "yelp['no_stop'][:5].apply(lambda x: str(TextBlob(x).correct()))"
   ]
  },
  {
   "cell_type": "code",
   "execution_count": 11,
   "metadata": {},
   "outputs": [
    {
     "data": {
      "text/plain": [
       "0    friend gabi love cute parisian interior dim li...\n",
       "1                               good waiter staff cool\n",
       "2    regret catching name server best experienced f...\n",
       "3        lotus siam disappoint service great attentive\n",
       "4          name carlos ever want request service great\n",
       "Name: token, dtype: object"
      ]
     },
     "execution_count": 11,
     "metadata": {},
     "output_type": "execute_result"
    }
   ],
   "source": [
    "from nltk.tokenize.treebank import TreebankWordTokenizer\n",
    "_word_tokenize = TreebankWordTokenizer()\n",
    "yelp['token'] = yelp['no_rare'].apply(lambda x: ' '.join(_word_tokenize.tokenize(x)))\n",
    "yelp.token.head()"
   ]
  },
  {
   "cell_type": "code",
   "execution_count": 12,
   "metadata": {},
   "outputs": [
    {
     "data": {
      "text/plain": [
       "0    friend gabi love cute parisian interior dim li...\n",
       "1                               good waiter staff cool\n",
       "2    regret catch name server best experienc far tr...\n",
       "3            lotus siam disappoint servic great attent\n",
       "4            name carlo ever want request servic great\n",
       "Name: stemed, dtype: object"
      ]
     },
     "execution_count": 12,
     "metadata": {},
     "output_type": "execute_result"
    }
   ],
   "source": [
    "from nltk.stem.snowball import SnowballStemmer\n",
    "st = SnowballStemmer(\"english\")\n",
    "yelp['stemed']=yelp['token'].apply(lambda x: \" \".join([st.stem(word) for word in x.split()]))\n",
    "yelp.stemed.head()"
   ]
  },
  {
   "cell_type": "code",
   "execution_count": null,
   "metadata": {
    "collapsed": true
   },
   "outputs": [],
   "source": []
  },
  {
   "cell_type": "code",
   "execution_count": 13,
   "metadata": {},
   "outputs": [
    {
     "data": {
      "text/plain": [
       "0     friend gabi love cute parisian interior dim li...\n",
       "1                                good waiter staff cool\n",
       "2     regret catch name server best experienc far tr...\n",
       "3             lotus siam disappoint servic great attent\n",
       "4             name carlo ever want request servic great\n",
       "5                               room beauti server good\n",
       "6     servic quick price ok get pretti darn good san...\n",
       "7                                 good servic good food\n",
       "8     say locat decor lotus siam never life find bet...\n",
       "9                              servic snappi food tasti\n",
       "10    came month ago food ok initi encount cashier g...\n",
       "11                       hostess waitress friend attent\n",
       "12                     shout boy wesley host cool peopl\n",
       "13                            waitress awesom help ball\n",
       "14     servic great busi afternoon outdoor set look day\n",
       "15    arriv 3pm weekday prompt seat busi patio time ...\n",
       "16    happi help take mani pictur request alway kept...\n",
       "17    item order mon ami gabi oyster du jour 15 95 w...\n",
       "18                                 wonder attent servic\n",
       "19    dustin mohawk friend great job enhanc impress ...\n",
       "Name: lemma, dtype: object"
      ]
     },
     "execution_count": 13,
     "metadata": {},
     "output_type": "execute_result"
    }
   ],
   "source": [
    "from nltk.stem import WordNetLemmatizer\n",
    "wordnet_lemmatizer = WordNetLemmatizer()\n",
    "yelp['lemma']=yelp['stemed'].apply(lambda x: \" \".join([wordnet_lemmatizer.lemmatize(word) for word in x.split()]))\n",
    "yelp.lemma.head(20)"
   ]
  },
  {
   "cell_type": "code",
   "execution_count": 14,
   "metadata": {},
   "outputs": [
    {
     "data": {
      "text/plain": [
       "617"
      ]
     },
     "execution_count": 14,
     "metadata": {},
     "output_type": "execute_result"
    }
   ],
   "source": [
    "yelp.lemma.str.len().max()"
   ]
  },
  {
   "cell_type": "code",
   "execution_count": 15,
   "metadata": {},
   "outputs": [
    {
     "name": "stdout",
     "output_type": "stream",
     "text": [
      "[('', 3), ('0', 10), ('00', 33), ('000', 6), ('00am', 1), ('00pm', 2), ('05', 1), ('06', 3), ('07', 2), ('1', 98), ('10', 95), ('100', 22), ('1000', 8), ('102', 2), ('10lbs', 1), ('10min', 1), ('10x', 1), ('11', 21), ('110', 5), ('112', 1), ('11am', 4), ('11pm', 1), ('12', 23), ('120', 1), ('12pm', 1), ('13', 23), ('14', 10), ('140', 3), ('15', 79), ('150', 1), ('1500', 1), ('15pm', 2), ('16', 13), ('164', 1), ('17', 9), ('1762', 2), ('18', 22), ('19', 7), ('1am', 1), ('1st', 7), ('2', 186), ('20', 69), ('200', 9), ('2002', 2), ('2008', 1), ('2010', 3), ('2011', 1), ('2012', 1), ('2016', 2), ('20min', 4), ('21', 7), ('22', 19), ('23', 2), ('23th', 1), ('24', 45), ('24hrs', 6), ('25', 42), ('26', 1), ('27', 13), ('270', 4), ('28', 4), ('29', 8), ('2nd', 14), ('2nds', 2), ('2pm', 3), ('3', 182), ('30', 83), ('300', 6), ('30am', 2), ('30ish', 2), ('30pm', 6), ('33', 5), ('330', 2), ('330pm', 1), ('34', 5), ('35', 28), ('35min', 1), ('36', 3), ('37', 5), ('38', 14), ('39', 2), ('3pm', 8), ('3rd', 3), ('3rds', 2), ('3xs', 1), ('4', 155), ('40', 78), ('400', 1), ('40am', 1), ('40ish', 1), ('41', 1), ('42', 4), ('43', 5), ('44', 5), ('45', 40), ('46', 7), ('47', 2), ('48', 4), ('49', 3), ('4am', 4), ('4ever', 2), ('4hr', 1), ('4k', 1), ('4pm', 1), ('4th', 5), ('4ths', 2), ('5', 327), ('50', 95), ('500', 6), ('50pm', 1), ('51', 8), ('52', 7), ('53', 3), ('530', 1), ('54', 5), ('55', 5), ('56', 2), ('57', 1), ('57th', 1), ('58', 1), ('59', 1), ('597', 2), ('5star', 1), ('6', 59), ('60', 17), ('62', 3), ('65', 13), ('65th', 1), ('6a', 1), ('6pm', 3), ('6th', 1), ('7', 53), ('70', 7), ('70pp', 2), ('72', 2), ('75', 12), ('76', 3), ('79', 1), ('7min', 1), ('7pm', 2), ('7up', 1), ('8', 46), ('80', 9), ('85', 1), ('86', 2), ('880szzla', 1), ('8pm', 5), ('9', 22), ('90', 11), ('91', 1), ('93', 1), ('95', 34), ('95pp', 1), ('98', 5), ('99', 32), ('9am', 2), ('9pm', 3), ('_', 2), ('aa', 1), ('abandon', 2), ('abc', 2), ('abil', 2), ('abl', 61), ('abso', 1), ('absolut', 74), ('absorb', 1), ('absurd', 9), ('abu', 2), ('abund', 4), ('abut', 1), ('ac', 3), ('accent', 1), ('accept', 5), ('access', 6), ('accid', 1), ('accident', 2), ('accommod', 18), ('accomod', 6), ('accompani', 10), ('accord', 4), ('account', 2), ('accur', 2), ('accus', 2), ('accustom', 2), ('ach', 1), ('achiev', 1), ('across', 52), ('act', 5), ('action', 3), ('activ', 2), ('actor', 3), ('actual', 111), ('ad', 14), ('add', 38), ('addict', 1), ('addit', 23), ('address', 2), ('adequ', 6), ('adjac', 5), ('adjust', 3), ('admiss', 4), ('admit', 26), ('adolesc', 3), ('ador', 13), ('adult', 5), ('advanatag', 1), ('advantag', 5), ('adventur', 4), ('adventuresom', 1), ('advertis', 4), ('advic', 7), ('advis', 10), ('aesthet', 1), ('af', 1), ('affabl', 1), ('affect', 1), ('afford', 55), ('aforement', 3), ('afraid', 1), ('afterlif', 1), ('afternoon', 17), ('aftertast', 1), ('afterward', 7), ('againwa', 1), ('age', 5), ('agenda', 1), ('ago', 26), ('agre', 28), ('ah', 3), ('ahead', 10), ('ahi', 1), ('aim', 3), ('aint', 2), ('aioli', 5), ('air', 2), ('airi', 3), ('aka', 1), ('al', 4), ('ala', 3), ('alaskan', 13), ('albeit', 3), ('alc', 1), ('alcohol', 11), ('alex', 3), ('alfredo', 2), ('alic', 5), ('align', 2), ('alittl', 2), ('allerg', 11), ('allergi', 9), ('alloc', 1), ('allow', 15), ('almondin', 2), ('almost', 82), ('alo', 1), ('alon', 39), ('along', 30), ('alongsid', 2), ('alot', 14), ('alreadi', 49), ('alright', 12), ('also', 322), ('alt', 1), ('altern', 6), ('although', 111), ('alway', 230), ('amanz', 1), ('amateurish', 1), ('amaz', 381), ('amazin', 2), ('amazon', 1), ('ambianc', 182), ('ambienc', 69), ('ambient', 2), ('ambiti', 1), ('amen', 2), ('amend', 3), ('america', 17), ('american', 63), ('americana', 2), ('ami', 68), ('amid', 2), ('amidst', 1), ('among', 10), ('amount', 70), ('amp', 2), ('ampl', 1), ('amus', 2), ('anchor', 1), ('ancient', 1), ('andddd', 1), ('andi', 4), ('angel', 2), ('angri', 10), ('angrier', 1), ('angrilli', 1), ('anniversari', 6), ('annoy', 15), ('anoth', 119), ('answer', 13), ('anthoni', 1), ('anti', 4), ('anticip', 5), ('antipasta', 2), ('antipasti', 2), ('antipasto', 1), ('anybodi', 2), ('anyday', 2), ('anyhow', 2), ('anymor', 11), ('anyon', 29), ('anyth', 71), ('anytim', 7), ('anyway', 43), ('anywher', 20), ('anywho', 1), ('aparagus', 2), ('apart', 21), ('apolog', 14), ('apologet', 8), ('app', 4), ('appar', 8), ('appeal', 13), ('appear', 16), ('apper', 3), ('appet', 66), ('appetit', 11), ('appetizz', 1), ('appl', 18), ('appoint', 3), ('appreci', 27), ('approach', 5), ('appropri', 5), ('approx', 3), ('approxim', 2), ('april', 3), ('aray', 1), ('archaic', 1), ('archi', 2), ('arctic', 1), ('area', 136), ('arent', 1), ('areo', 1), ('argu', 11), ('arguabl', 4), ('aria', 8), ('arm', 11), ('armi', 1), ('arni', 1), ('arnold', 1), ('aroma', 1), ('aros', 1), ('around', 203), ('arrabiatta', 3), ('arrang', 14), ('array', 26), ('arriv', 36), ('arrog', 5), ('art', 7), ('artichok', 1), ('articl', 1), ('artisan', 1), ('artsi', 1), ('artwork', 3), ('arugula', 4), ('as', 17), ('asada', 3), ('asaian', 1), ('asap', 6), ('asham', 2), ('asia', 4), ('asian', 148), ('asid', 32), ('ask', 136), ('asleep', 3), ('asparagus', 4), ('aspect', 5), ('asset', 1), ('asshol', 2), ('assist', 1), ('associ', 3), ('assort', 29), ('assum', 1), ('assur', 1), ('astound', 3), ('ate', 75), ('atlant', 1), ('atmosher', 2), ('atmoshper', 2), ('atmospher', 249), ('atomospher', 1), ('atrium', 4), ('atroci', 1), ('attach', 4), ('attempt', 5), ('attend', 9), ('attent', 125), ('attest', 1), ('attitud', 17), ('attract', 16), ('au', 13), ('authent', 38), ('automat', 2), ('avail', 33), ('ave', 3), ('avenu', 15), ('averag', 131), ('avid', 3), ('avocado', 15), ('avoid', 22), ('aw', 23), ('await', 3), ('awar', 3), ('award', 9), ('away', 87), ('awe', 6), ('awesom', 182), ('awful', 3), ('awhil', 6), ('awkward', 6), ('awsom', 9), ('awww', 1), ('ayc', 10), ('b', 10), ('babi', 6), ('bacchan', 119), ('bachann', 7), ('bachannel', 1), ('bachelorett', 7), ('back', 394), ('backdrop', 1), ('background', 4), ('backhand', 1), ('backpack', 1), ('backyard', 4), ('bacon', 80), ('bad', 197), ('badg', 1), ('baffl', 1), ('bag', 7), ('bagel', 22), ('baguett', 10), ('bahn', 1), ('bajillion', 1), ('bake', 20), ('bakeri', 6), ('baklava', 2), ('balanc', 17), ('balconi', 5), ('balk', 1), ('ball', 4), ('ballagio', 6), ('balli', 2), ('balsam', 8), ('baluchi', 3), ('bam', 1), ('bamboo', 2), ('banana', 24), ('band', 2), ('bang', 13), ('bangin', 1), ('bangkok', 3), ('bank', 8), ('banquet', 1), ('banter', 1), ('bao', 13), ('bar', 217), ('barbecu', 1), ('bare', 15), ('barf', 1), ('bargain', 9), ('baromet', 1), ('barrier', 2), ('bart', 5), ('bartend', 11), ('base', 21), ('bashlor', 3), ('basi', 2), ('basic', 75), ('basil', 8), ('basket', 11), ('bass', 13), ('bat', 2), ('bataan', 1), ('batch', 2), ('bathroom', 20), ('batter', 6), ('batteri', 1), ('battl', 1), ('bay', 4), ('bbbq', 1), ('bbq', 48), ('bc', 7), ('bday', 2), ('beach', 3), ('bean', 13), ('beani', 1), ('bear', 3), ('bearabl', 2), ('beard', 1), ('bearnais', 1), ('beat', 35), ('beaten', 3), ('beauti', 163), ('beautif', 1), ('becam', 11), ('beckon', 1), ('becom', 16), ('becuz', 1), ('bed', 4), ('bedazzl', 1), ('bedford', 1), ('bee', 4), ('beef', 130), ('beefi', 2), ('beep', 1), ('beer', 44), ('beet', 2), ('befit', 1), ('beforehand', 1), ('beforr', 2), ('beg', 1), ('began', 7), ('begin', 27), ('begrudg', 1), ('behind', 24), ('beignet', 1), ('belagio', 4), ('belen', 1), ('belief', 2), ('believ', 25), ('bell', 2), ('bellagio', 278), ('bellegio', 1), ('belli', 21), ('belong', 1), ('bench', 1), ('bend', 2), ('beneath', 1), ('benedict', 46), ('benefit', 3), ('benjamin', 4), ('bennedict', 1), ('benni', 3), ('bergstrom', 1), ('berri', 3), ('beschreiben', 1), ('beshamel', 1), ('besid', 12), ('best', 635), ('bestbet', 2), ('besten', 1), ('bet', 13), ('bethesda', 2), ('betray', 2), ('better', 463), ('beurr', 1), ('beverag', 18), ('bewar', 6), ('beyond', 21), ('bf', 14), ('bgel', 3), ('bias', 1), ('big', 136), ('bigger', 19), ('biggest', 11), ('bill', 45), ('bind', 2), ('bing', 3), ('biorythm', 1), ('bird', 2), ('birthday', 17), ('biscuit', 20), ('bisqu', 5), ('bistro', 23), ('bit', 239), ('bite', 91), ('biter', 2), ('bitter', 6), ('biz_photo', 5), ('bizarr', 3), ('bla', 3), ('blaaaa', 1), ('black', 11), ('blacken', 2), ('blackjack', 3), ('blah', 7), ('bland', 72), ('blank', 1), ('blantent', 2), ('blast', 2), ('blatant', 2), ('blaze', 2), ('bleed', 2), ('blend', 6), ('bless', 2), ('blew', 3), ('bliss', 3), ('blob', 1), ('block', 10), ('blond', 4), ('blood', 4), ('bloodi', 49), ('bloom', 2), ('blow', 14), ('blown', 9), ('blt', 6), ('blue', 18), ('blueberri', 11), ('bluechees', 2), ('bluejean', 1), ('blunder', 2), ('blvd', 5), ('boar', 3), ('board', 1), ('boarderlin', 1), ('boba', 2), ('bodi', 1), ('boggl', 1), ('bogo', 1), ('boil', 6), ('bold', 3), ('bolognes', 2), ('bomb', 16), ('bombass', 1), ('bombay', 1), ('bon', 1), ('bond', 1), ('bone', 43), ('bonn', 1), ('bonus', 1), ('book', 7), ('boom', 2), ('booo', 1), ('boooooo', 1), ('boot', 2), ('booth', 2), ('booz', 3), ('bordelais', 2), ('border', 4), ('bore', 27), ('boston', 1), ('both', 2), ('bother', 15), ('bottl', 30), ('bottom', 13), ('bottomless', 14), ('bought', 6), ('boulevard', 1), ('boulliabas', 1), ('bounti', 2), ('bourdain', 1), ('bourgogn', 2), ('bow', 1), ('bowl', 25), ('box', 3), ('boy', 14), ('boyfriend', 28), ('brag', 1), ('brain', 1), ('brais', 2), ('branch', 2), ('brand', 6), ('branzino', 1), ('brasseri', 4), ('brave', 1), ('bread', 116), ('breadi', 2), ('break', 14), ('breakdown', 1), ('breakfast', 204), ('breast', 3), ('breath', 3), ('breathtak', 7), ('breathtaken', 1), ('breead', 1), ('breez', 1), ('brgr', 1), ('brian', 3), ('brick', 2), ('brie', 11), ('bright', 15), ('brighter', 4), ('brilliant', 6), ('brim', 2), ('brine', 3), ('bring', 53), ('brioch', 1), ('brisket', 16), ('britannia', 1), ('britney', 1), ('brluee', 2), ('broad', 1), ('broadway', 2), ('broccoli', 7), ('brocolli', 1), ('broil', 1), ('broke', 1), ('broken', 3), ('brokenheart', 1), ('brooklyn', 4), ('broth', 6), ('brother', 5), ('brought', 36), ('brown', 8), ('browni', 5), ('bruch', 1), ('brule', 15), ('brunch', 163), ('bruschetta', 5), ('brush', 1), ('brussel', 6), ('brutal', 1), ('brød', 1), ('brûlée', 8), ('bspot', 1), ('btw', 6), ('bubbl', 5), ('bucco', 1), ('buck', 57), ('bucket', 4), ('bud', 13), ('buddi', 4), ('budget', 16), ('bueno', 1), ('buffer', 1), ('buffet', 1920), ('buffeten', 1), ('buffett', 14), ('bugner', 1), ('build', 5), ('buildup', 1), ('built', 1), ('bukhara', 3), ('buku', 2), ('bulgogi', 1), ('bull', 2), ('bullet', 2), ('bummer', 3), ('bun', 40), ('bunch', 18), ('burden', 1), ('burger', 343), ('burgr', 44), ('buri', 4), ('burle', 3), ('burmes', 2), ('burn', 2), ('burner', 1), ('burnt', 7), ('burria', 2), ('burst', 1), ('bus', 6), ('busboy', 2), ('bush', 1), ('busi', 90), ('busiest', 1), ('busser', 5), ('bustl', 7), ('butt', 3), ('butter', 34), ('butteri', 6), ('butternut', 5), ('buttload', 1), ('butttttt', 1), ('buy', 17), ('buyer', 2), ('buzz', 5), ('buzzer', 2), ('bye', 3), ('byobruschetta', 1), ('bypass', 1), ('c', 13), ('ca', 1), ('cab', 7), ('cabbag', 1), ('cabernet', 4), ('cabl', 1), ('caesar', 62), ('caesear', 1), ('cafe', 28), ('cafeteria', 10), ('café', 3), ('cagl', 2), ('cake', 70), ('calamari', 10), ('calcul', 2), ('cali', 2), ('calib', 5), ('california', 4), ('californian', 1), ('call', 42), ('calm', 3), ('calzon', 2), ('came', 198), ('camp', 1), ('camper', 2), ('can', 41), ('cancel', 2), ('candi', 15), ('candl', 6), ('cannib', 3), ('cannonbal', 1), ('cant', 4), ('cantaloup', 1), ('cantones', 1), ('cap', 3), ('capres', 11), ('captur', 1), ('car', 4), ('caraf', 5), ('caramel', 4), ('carb', 13), ('carbon', 1), ('carbonara', 2), ('card', 24), ('cardboard', 3), ('cardio', 1), ('care', 51), ('caribbean', 5), ('carlo', 3), ('carn', 3), ('carnita', 1), ('carniv', 3), ('carozza', 3), ('carpet', 1), ('carri', 10), ('carribean', 1), ('carrot', 15), ('cart', 14), ('carv', 52), ('carver', 2), ('carveri', 3), ('case', 16), ('caserol', 1), ('cash', 4), ('cashier', 22), ('casimir', 1), ('casino', 64), ('casserol', 3), ('cassuolet', 2), ('cast', 1), ('castl', 1), ('casual', 30), ('cat', 1), ('catch', 17), ('categori', 5), ('cater', 17), ('catfish', 2), ('caught', 6), ('cauliflow', 3), ('caus', 16), ('caution', 1), ('cave', 2), ('caviar', 13), ('ceas', 1), ('ceasar', 2), ('ceaser', 5), ('ceil', 5), ('celeb', 1), ('celebr', 19), ('celeri', 4), ('cell', 1), ('cellar', 2), ('center', 21), ('centerpiec', 1), ('central', 3), ('cepe', 1), ('ceram', 1), ('cereal', 4), ('certain', 43), ('certainti', 1), ('certif', 1), ('cesar', 4), ('cetera', 1), ('cevich', 26), ('cha', 2), ('chafer', 2), ('chai', 5), ('chain', 12), ('chair', 7), ('chalk', 2), ('challeng', 5), ('champ', 2), ('champag', 3), ('champagn', 40), ('champion', 1), ('chanc', 19), ('chandeli', 1), ('chang', 51), ('chanterell', 6), ('chao', 4), ('char', 6), ('charact', 8), ('characterist', 2), ('charbroil', 1), ('charcuteri', 10), ('charg', 57), ('charisma', 1), ('charleston', 1), ('charm', 16), ('chart', 2), ('chartruccari', 1), ('chat', 4), ('chateau', 1), ('chcolat', 1), ('cheap', 116), ('cheaper', 61), ('cheapest', 4), ('cheapish', 2), ('cheapli', 7), ('cheat', 2), ('check', 82), ('checkbook', 1), ('checkup', 1), ('cheddar', 13), ('cheer', 3), ('cheeri', 1), ('chees', 212), ('cheescak', 1), ('cheeseburg', 6), ('cheesecak', 15), ('cheesestick', 1), ('cheesi', 7), ('chef', 100), ('cheff', 1), ('chennai', 1), ('cherri', 2), ('chest', 3), ('chew', 5), ('chewey', 1), ('chewi', 9), ('chiang', 1), ('chic', 6), ('chicago', 1), ('chicken', 253), ('chief', 2), ('child', 6), ('chile', 2), ('chilean', 2), ('chili', 5), ('chill', 9), ('chilli', 1), ('chime', 1), ('chin', 1), ('chinatown', 5), ('chine', 95), ('ching', 1), ('chip', 15), ('chipotl', 12), ('chive', 1), ('chiver', 1), ('choco', 1), ('chocol', 129), ('chocolatey', 3), ('choic', 244), ('choicest', 1), ('choke', 2), ('chole', 5), ('chompi', 2), ('choos', 77), ('chop', 30), ('chopstick', 1), ('chorizo', 1), ('chose', 13), ('chosen', 2), ('chow', 15), ('chowder', 7), ('chowmein', 1), ('chris', 1), ('christina', 2), ('christma', 7), ('chronic', 1), ('chuck', 5), ('chunk', 5), ('chunki', 1), ('churro', 2), ('chutima', 2), ('chutney', 4), ('ciabatta', 2), ('cigar', 2), ('cigarrett', 2), ('cinnamon', 1), ('circus', 6), ('citi', 41), ('citizen', 2), ('citrus', 2), ('citysearch', 1), ('clad', 1), ('claim', 7), ('clam', 9), ('clarifi', 1), ('claro', 1), ('class', 9), ('classi', 30), ('classic', 27), ('classifi', 2), ('classiqu', 1), ('classmat', 1), ('claus', 1), ('claw', 9), ('clean', 91), ('cleaner', 4), ('cleanest', 3), ('cleanli', 15), ('clear', 29), ('cleintel', 2), ('clerk', 3), ('clever', 2), ('clientel', 10), ('clinic', 1), ('clock', 1), ('close', 61), ('closer', 2), ('closest', 2), ('cloth', 6), ('cloud', 1), ('cloy', 1), ('club', 25), ('clubhous', 2), ('clue', 3), ('clumsi', 4), ('clung', 2), ('cmon', 2), ('co', 6), ('coast', 2), ('coaster', 1), ('coat', 3), ('cob', 3), ('cobb', 6), ('cobia', 1), ('cockroach', 7), ('cocktail', 71), ('coconut', 16), ('cod', 1), ('code', 1), ('coffe', 50), ('coffin', 2), ('cognit', 1), ('cohes', 1), ('coin', 1), ('coke', 5), ('cold', 94), ('cole', 1), ('coleslaw', 3), ('colleagu', 1), ('collect', 5), ('colleg', 5), ('collett', 1), ('color', 12), ('coloss', 2), ('column', 2), ('com', 11), ('coma', 12), ('combin', 33), ('combo', 4), ('come', 360), ('comfi', 2), ('comfort', 44), ('comic', 1), ('comment', 11), ('commerci', 2), ('commit', 1), ('common', 7), ('commot', 1), ('comp', 15), ('compact', 1), ('compani', 8), ('companion', 2), ('compar', 119), ('comparison', 15), ('compel', 4), ('compens', 2), ('compet', 1), ('competit', 6), ('compil', 1), ('complain', 32), ('complaint', 39), ('complement', 4), ('complet', 59), ('complex', 6), ('compliment', 9), ('complimentari', 18), ('comprehens', 1), ('compris', 1), ('compromis', 3), ('computer', 1), ('con', 20), ('concept', 24), ('concern', 5), ('concis', 3), ('conclud', 1), ('conclus', 5), ('concoct', 3), ('condiment', 10), ('condition', 1), ('cone', 17), ('confect', 4), ('confer', 3), ('confid', 5), ('confin', 1), ('confirm', 2), ('confit', 6), ('confort', 2), ('confront', 1), ('confus', 14), ('conge', 12), ('congeal', 1), ('congratul', 1), ('conscious', 2), ('consecut', 1), ('consid', 81), ('consider', 7), ('consist', 45), ('constant', 16), ('constitut', 1), ('constraint', 1), ('construct', 4), ('consum', 10), ('consumpt', 2), ('contact', 1), ('contain', 15), ('contemporari', 6), ('contend', 1), ('content', 5), ('continent', 1), ('continu', 22), ('contrari', 2), ('contrast', 2), ('contribut', 3), ('control', 19), ('contruari', 3), ('conveni', 13), ('convers', 14), ('convinc', 1), ('cook', 105), ('cooki', 28), ('cool', 90), ('cop', 1), ('copi', 2), ('core', 1), ('corinthian', 2), ('cork', 1), ('corn', 37), ('cornbread', 2), ('corner', 10), ('cornish', 4), ('corona', 1), ('corp', 1), ('corral', 5), ('correct', 8), ('cosett', 1), ('cosmo', 12), ('cosmopolitan', 38), ('cost', 61), ('costco', 1), ('cotta', 3), ('cotton', 2), ('cough', 1), ('could', 247), ('coulda', 1), ('couldnt', 3), ('count', 8), ('counter', 12), ('counterpart', 1), ('counti', 2), ('countless', 2), ('countri', 23), ('coupl', 50), ('coupon', 4), ('cours', 55), ('court', 4), ('courteous', 6), ('courtesey', 1), ('courtesi', 3), ('cousin', 4), ('cover', 19), ('covet', 2), ('cow', 2), ('cowboy', 2), ('cozi', 16), ('cpk', 1), ('crab', 337), ('crabcak', 4), ('crabmeat', 2), ('crack', 1), ('craft', 2), ('cram', 4), ('cramp', 15), ('cranberri', 3), ('crap', 13), ('crappi', 9), ('crappiest', 2), ('crash', 1), ('crave', 23), ('craw', 1), ('crawfish', 3), ('crazi', 30), ('cream', 98), ('creami', 17), ('creat', 8), ('creation', 9), ('creativ', 21), ('credenti', 2), ('credit', 12), ('creepi', 3), ('creme', 28), ('crepe', 49), ('crew', 4), ('cri', 4), ('crisp', 15), ('crisper', 1), ('crispi', 38), ('crisscross', 1), ('critic', 3), ('crock', 1), ('croissant', 6), ('croissanta', 1), ('crook', 1), ('croqu', 5), ('croquett', 1), ('cross', 1), ('crouton', 3), ('crowd', 63), ('cruis', 1), ('crumb', 3), ('crumbl', 1), ('crunch', 3), ('crunchi', 8), ('crush', 3), ('crust', 24), ('crusti', 5), ('crystal', 4), ('ctr', 1), ('cucumb', 6), ('cue', 2), ('cuisin', 84), ('culinari', 8), ('cultur', 5), ('cun0y7kbx34p_nom_c6xjq', 1), ('cup', 27), ('cupcak', 10), ('cur', 1), ('cure', 4), ('curious', 1), ('current', 9), ('curri', 47), ('curtious', 2), ('cusin', 1), ('custard', 6), ('custom', 136), ('cut', 63), ('cutback', 2), ('cute', 97), ('cuter', 2), ('cutesi', 1), ('cutleri', 2), ('cutter', 2), ('cuz', 5), ('da', 1), ('dad', 5), ('daddi', 1), ('dahl', 1), ('daili', 4), ('dainti', 2), ('dairi', 3), ('daisi', 2), ('dal', 3), ('dam', 2), ('damag', 1), ('damm', 1), ('damn', 29), ('dampen', 2), ('danc', 2), ('dandi', 1), ('dang', 4), ('danger', 1), ('dapper', 1), ('dare', 2), ('dark', 17), ('darn', 13), ('dash', 2), ('date', 23), ('daughter', 6), ('david', 4), ('day', 180), ('daydream', 2), ('daytim', 1), ('daz', 1), ('dazzl', 2), ('dc', 1), ('de', 4), ('dead', 2), ('deal', 71), ('dealer', 1), ('dean', 1), ('dearth', 3), ('death', 5), ('debat', 1), ('debri', 1), ('dec', 1), ('decad', 6), ('decant', 2), ('deceiv', 3), ('decent', 149), ('decept', 1), ('decid', 55), ('decis', 8), ('declar', 1), ('declin', 6), ('decor', 247), ('decour', 5), ('dedic', 5), ('deduc', 2), ('deduct', 2), ('deeeelight', 1), ('deep', 11), ('deer', 1), ('def', 8), ('default', 1), ('deff', 2), ('defiant', 4), ('defici', 2), ('defin', 4), ('definat', 1), ('definet', 3), ('definit', 347), ('definitley', 1), ('defint', 3), ('deflect', 1), ('degre', 7), ('degress', 1), ('dehydr', 1), ('del', 1), ('delay', 2), ('delect', 5), ('deli', 8), ('delic', 12), ('delicaci', 2), ('delici', 432), ('delicioso', 1), ('delict', 4), ('delight', 30), ('delish', 18), ('deliv', 21), ('deliveri', 13), ('delux', 2), ('demand', 4), ('demeanor', 1), ('dementia', 1), ('demis', 1), ('den', 2), ('denni', 3), ('depend', 11), ('deplor', 1), ('depress', 5), ('depth', 1), ('describ', 17), ('descript', 2), ('desert', 61), ('deserv', 35), ('desicc', 2), ('design', 23), ('desir', 16), ('desk', 5), ('desol', 1), ('desorm', 1), ('despit', 47), ('desrcib', 1), ('dessert', 519), ('desssssserrrrrt', 1), ('destin', 3), ('detail', 11), ('deter', 3), ('deterior', 1), ('determin', 1), ('detract', 2), ('develop', 1), ('devil', 1), ('devin', 4), ('devour', 6), ('dew', 1), ('dhal', 5), ('dhosa', 5), ('diamond', 10), ('diaper', 1), ('diarrhea', 2), ('dicey', 2), ('dick', 1), ('didnt', 11), ('die', 37), ('diego', 6), ('diet', 5), ('dietari', 3), ('diff', 1), ('differ', 189), ('differenti', 2), ('difficult', 24), ('dig', 2), ('digest', 1), ('diggest', 2), ('diggitti', 1), ('dilig', 1), ('dim', 47), ('dime', 1), ('diminish', 2), ('diminsh', 3), ('dimsum', 2), ('din', 4), ('dindin', 3), ('dine', 117), ('diner', 27), ('dingi', 2), ('dinner', 330), ('dip', 34), ('direct', 4), ('dirti', 17), ('disadvantag', 1), ('disagre', 1), ('disapoint', 2), ('disappear', 6), ('disappoint', 241), ('disarm', 1), ('disast', 5), ('disbelief', 3), ('discard', 1), ('disconnect', 1), ('discount', 10), ('discourag', 1), ('discov', 6), ('discreet', 1), ('discrimin', 6), ('discus', 2), ('disgust', 19), ('dish', 551), ('dislik', 2), ('dismal', 4), ('dismiss', 1), ('disney', 8), ('disneyesqu', 1), ('disneyland', 4), ('disneyworld', 1), ('disorgan', 2), ('disparag', 1), ('dispel', 1), ('display', 25), ('displeas', 2), ('disrespect', 1), ('dissapoint', 12), ('dissappear', 3), ('dissappoint', 4), ('dissatisfi', 1), ('disservic', 3), ('disson', 1), ('distanc', 1), ('distant', 1), ('distinct', 1), ('distinguish', 1), ('distract', 1), ('district', 4), ('ditch', 1), ('ditzi', 1), ('diva', 1), ('dive', 1), ('diver', 15), ('diversifi', 2), ('divin', 6), ('divis', 2), ('diy', 1), ('dizzi', 2), ('dkys3arloha8si5uuemhow', 1), ('doctor', 1), ('documentari', 1), ('dodg', 2), ('dodgi', 2), ('doesnt', 2), ('dog', 12), ('doll', 1), ('dolla', 2), ('dollar', 45), ('dolphin', 1), ('done', 43), ('dont', 26), ('dontcha', 1), ('donut', 10), ('door', 13), ('dosa', 2), ('dot', 1), ('doubl', 6), ('doubt', 14), ('dough', 3), ('doughi', 4), ('doughnut', 1), ('dover', 1), ('downer', 1), ('downfal', 1), ('downgrad', 3), ('downhil', 11), ('downright', 2), ('downsid', 19), ('downstair', 6), ('downtown', 7), ('dozen', 9), ('drab', 1), ('draft', 2), ('drag', 1), ('dramat', 1), ('drank', 4), ('draw', 6), ('drawback', 5), ('dread', 2), ('dream', 9), ('dress', 16), ('dri', 84), ('drink', 219), ('drip', 2), ('drive', 12), ('driven', 1), ('driver', 4), ('drizzl', 6), ('drool', 5), ('drop', 21), ('drown', 3), ('druken', 2), ('drumstick', 5), ('drunk', 12), ('drunken', 33), ('dryer', 1), ('dtf', 2), ('du', 3), ('duck', 54), ('dude', 7), ('due', 36), ('dull', 2), ('dumb', 2), ('dump', 5), ('dumpi', 1), ('dumpl', 32), ('dung', 2), ('dunno', 5), ('duo', 1), ('duper', 1), ('duplic', 2), ('dusk', 1), ('dust', 2), ('dustin', 1), ('décor', 8), ('désolat', 3), ('e', 16), ('ea', 2), ('ear', 5), ('earl', 79), ('earli', 34), ('earlier', 17), ('earn', 5), ('earpiec', 1), ('earth', 2), ('easi', 22), ('easier', 4), ('easili', 33), ('east', 7), ('easter', 8), ('eastern', 1), ('eat', 450), ('eaten', 54), ('eater', 15), ('eateri', 7), ('ebi', 2), ('echo', 2), ('eclair', 2), ('eclect', 5), ('econom', 3), ('economi', 1), ('ecstasi', 1), ('ect', 3), ('edamam', 3), ('edg', 4), ('edibl', 10), ('editor', 1), ('ef', 1), ('eff', 1), ('effect', 2), ('effici', 27), ('effin', 1), ('effort', 10), ('effortless', 2), ('egg', 115), ('eggplant', 2), ('eh', 7), ('ehh', 2), ('ehhh', 1), ('eiffel', 11), ('eifl', 1), ('either', 60), ('el', 84), ('elect', 2), ('eleg', 23), ('element', 5), ('elementari', 2), ('elev', 1), ('eleys', 1), ('elf', 1), ('elig', 1), ('elimin', 1), ('elit', 3), ('elizabeth', 1), ('elk', 2), ('elot', 2), ('elsewher', 14), ('elud', 2), ('elvi', 1), ('elvia', 1), ('embarrass', 2), ('embed', 2), ('embellish', 1), ('emerg', 1), ('emilio', 5), ('emmzx', 2), ('emot', 1), ('emperor', 2), ('emphasi', 2), ('emplac', 1), ('empli', 1), ('employe', 12), ('empti', 42), ('en', 5), ('enclos', 2), ('encor', 9), ('encount', 7), ('encourag', 3), ('end', 135), ('endang', 1), ('endiv', 1), ('endless', 20), ('endulg', 1), ('enemi', 1), ('energet', 3), ('energi', 2), ('engag', 3), ('engin', 1), ('england', 2), ('english', 3), ('engrav', 2), ('enhanc', 2), ('enjoy', 242), ('enlighten', 2), ('enorm', 11), ('enough', 129), ('enought', 1), ('ensur', 1), ('enter', 14), ('entertain', 13), ('enthusiasm', 2), ('enthusiast', 6), ('entic', 2), ('entir', 41), ('entitl', 3), ('entourag', 1), ('entranc', 22), ('entre', 43), ('entri', 6), ('entré', 1), ('environ', 46), ('envis', 1), ('eo', 5), ('eo1u2kj6oyu_a_kr9pc', 1), ('epic', 5), ('equal', 7), ('equival', 2), ('err', 1), ('error', 1), ('es', 1), ('escal', 3), ('escargot', 13), ('escort', 2), ('esp', 5), ('especi', 168), ('espresso', 1), ('esqu', 2), ('essent', 1), ('essenti', 1), ('est', 1), ('establish', 28), ('estat', 3), ('estim', 3), ('et', 2), ('etc', 85), ('ethnic', 7), ('etiquett', 1), ('euro', 8), ('european', 7), ('evalu', 2), ('evan', 1), ('eve', 1), ('even', 383), ('event', 6), ('eventhough', 1), ('eventu', 2), ('ever', 222), ('everi', 180), ('everrrrrrrr', 2), ('everybodi', 7), ('everyday', 3), ('everyon', 91), ('everyth', 278), ('everythig', 3), ('everytim', 9), ('everywher', 8), ('evil', 2), ('evolv', 1), ('evrn', 2), ('ew', 11), ('eww', 1), ('exact', 13), ('exampl', 17), ('excalibur', 2), ('exceed', 8), ('excel', 282), ('except', 77), ('excess', 16), ('excit', 33), ('exclaim', 3), ('excpetiona', 4), ('excus', 7), ('execut', 24), ('exemplari', 1), ('exemplifi', 1), ('exeperi', 1), ('exist', 11), ('exit', 3), ('exorbit', 3), ('exot', 11), ('expand', 3), ('expans', 8), ('expect', 243), ('expens', 150), ('experi', 349), ('experienc', 10), ('experiment', 2), ('explain', 14), ('explan', 3), ('explor', 10), ('explos', 2), ('expo', 2), ('express', 13), ('exquisit', 6), ('extend', 1), ('extens', 24), ('extent', 3), ('extenu', 1), ('exterior', 5), ('extra', 39), ('extraordinari', 9), ('extravag', 5), ('extrem', 46), ('eye', 33), ('eyelash', 2), ('f', 4), ('fabul', 38), ('face', 35), ('faci', 1), ('fact', 53), ('factor', 12), ('factori', 10), ('fail', 20), ('faint', 4), ('fair', 75), ('fake', 4), ('fall', 17), ('fame', 1), ('famili', 52), ('familiar', 6), ('famin', 3), ('famous', 16), ('fan', 81), ('fanat', 2), ('fanci', 41), ('fancier', 2), ('fanciest', 2), ('fantast', 124), ('fantastiqu', 4), ('far', 103), ('farang', 2), ('fare', 32), ('farm', 13), ('farther', 1), ('fashion', 6), ('fast', 85), ('faster', 10), ('fastest', 3), ('fastfood', 2), ('fat', 15), ('father', 2), ('fathom', 2), ('fatter', 2), ('fatti', 4), ('fault', 8), ('fav', 12), ('fave', 18), ('favor', 11), ('favorit', 212), ('favourit', 3), ('façad', 1), ('fe', 4), ('fear', 1), ('feast', 6), ('feat', 1), ('featur', 17), ('fed', 3), ('fee', 2), ('feed', 10), ('feedback', 3), ('feel', 178), ('fell', 15), ('fellow', 2), ('felt', 82), ('femal', 2), ('fernando', 1), ('fest', 1), ('feta', 3), ('fettucini', 2), ('fever', 1), ('fewer', 7), ('fhc', 1), ('fiancé', 2), ('fiber', 1), ('field', 2), ('fieri', 1), ('fifteen', 1), ('fifth', 1), ('fig', 3), ('fight', 4), ('figur', 14), ('filet', 26), ('filipino', 1), ('fill', 80), ('filler', 3), ('fillet', 1), ('filmi', 1), ('filthi', 1), ('final', 60), ('find', 159), ('fine', 48), ('finest', 1), ('finger', 2), ('finish', 58), ('fire', 16), ('firecrack', 1), ('firefli', 2), ('firework', 1), ('first', 175), ('fish', 94), ('fishi', 8), ('fishiest', 5), ('fist', 2), ('fit', 17), ('five', 29), ('fix', 27), ('flabbergast', 1), ('flag', 5), ('flair', 1), ('flaki', 1), ('flame', 2), ('flamingo', 2), ('flan', 8), ('flank', 4), ('flapjack', 1), ('flapper', 1), ('flare', 4), ('flash', 4), ('flashi', 1), ('flat', 7), ('flatbread', 6), ('flavor', 263), ('flavorless', 8), ('flavour', 2), ('flaw', 2), ('flawless', 2), ('fleshi', 1), ('flight', 5), ('fling', 1), ('float', 2), ('floor', 26), ('floral', 1), ('florida', 1), ('flow', 17), ('flower', 14), ('fluctuat', 1), ('fluffi', 11), ('foa', 1), ('focus', 11), ('foggi', 2), ('fogo', 1), ('foie', 2), ('foil', 4), ('folk', 8), ('follow', 11), ('fond', 1), ('food', 3623), ('foodgasm', 1), ('foodi', 9), ('foodwis', 1), ('fool', 13), ('foot', 17), ('footag', 1), ('footbal', 1), ('footlong', 1), ('forbidden', 2), ('forc', 9), ('forearm', 1), ('foretold', 1), ('forev', 17), ('forget', 21), ('forgett', 1), ('forgiv', 1), ('forgo', 1), ('forgot', 10), ('forgotten', 2), ('fork', 9), ('form', 3), ('formal', 2), ('former', 5), ('fornino', 1), ('forskellig', 2), ('fort', 1), ('forth', 1), ('forthcom', 1), ('forti', 2), ('fortun', 8), ('forward', 19), ('fossil', 1), ('foster', 5), ('foto', 1), ('found', 82), ('fountain', 146), ('four', 37), ('fourth', 2), ('foutain', 1), ('fr', 3), ('fragment', 1), ('frame', 2), ('franc', 3), ('francisco', 5), ('francoi', 1), ('frangria', 3), ('frank', 6), ('franklin', 1), ('frappuccino', 2), ('frazzl', 1), ('freak', 12), ('freaken', 2), ('freakin', 2), ('free', 53), ('freez', 6), ('freind', 2), ('french', 169), ('frenchi', 2), ('frenchman', 1), ('frend', 2), ('frequent', 17), ('fresh', 314), ('fresher', 7), ('freshest', 13), ('freshmess', 2), ('fri', 266), ('friday', 16), ('fridg', 2), ('friend', 345), ('friendli', 3), ('friendlier', 3), ('friendliest', 1), ('frienfli', 1), ('friskpressed', 1), ('frist', 2), ('frite', 25), ('fritt', 3), ('fritta', 1), ('frittata', 1), ('fro', 2), ('front', 58), ('frooozen', 2), ('frothi', 1), ('frozen', 58), ('frrrozen', 2), ('fruit', 55), ('frustrat', 5), ('fry', 2), ('fryer', 2), ('fuck', 4), ('fudg', 6), ('fugliest', 1), ('fulfil', 1), ('full', 119), ('fulli', 4), ('fun', 104), ('funk', 1), ('funki', 2), ('funni', 16), ('funnier', 1), ('furai', 2), ('furnitur', 6), ('furthermor', 2), ('furthest', 3), ('fuse', 1), ('fusion', 6), ('fussi', 5), ('futur', 15), ('fuzzi', 2), ('fy71penho8qee39mo55zdw', 1), ('g', 3), ('gabbi', 3), ('gabi', 70), ('gabriel', 1), ('gai', 1), ('gain', 5), ('gal', 1), ('galbi', 2), ('gallic', 1), ('gallo', 1), ('galor', 2), ('gambit', 2), ('gambl', 12), ('gambler', 3), ('game', 15), ('gamey', 1), ('garag', 1), ('garbag', 1), ('garbanzo', 1), ('garden', 19), ('gari', 1), ('garlic', 28), ('garlicki', 2), ('garnish', 7), ('garçon', 1), ('gas', 6), ('gastronom', 1), ('gastronomi', 1), ('gave', 48), ('gelatin', 1), ('gelato', 104), ('gellano', 1), ('gellato', 2), ('gem', 27), ('general', 43), ('generic', 9), ('generous', 14), ('genius', 3), ('genr', 3), ('gentl', 1), ('gentleman', 2), ('genuin', 5), ('germain', 1), ('german', 4), ('germifi', 1), ('gestur', 1), ('get', 758), ('gf', 5), ('ggdksu4enmbae6dw', 2), ('ghetto', 3), ('ghiradelli', 1), ('giant', 11), ('giddi', 1), ('gig', 3), ('gigant', 6), ('giggl', 1), ('gigonda', 3), ('gimmick', 2), ('ginger', 2), ('ginorm', 5), ('ginseng', 1), ('gir', 2), ('girl', 19), ('girlfriend', 12), ('give', 193), ('given', 44), ('glad', 38), ('glamor', 5), ('glamour', 2), ('glanc', 3), ('glass', 78), ('glasswar', 2), ('glaze', 8), ('glimmer', 1), ('glitter', 1), ('glitz', 2), ('globe', 1), ('gloomi', 6), ('glori', 1), ('glorifi', 6), ('glorious', 1), ('gluten', 14), ('glutton', 2), ('gluttoni', 4), ('gm', 1), ('gndkh8n82jleo5a', 1), ('gnocchi', 7), ('go', 713), ('goal', 2), ('goast', 2), ('goat', 25), ('god', 13), ('goddess', 2), ('godfath', 4), ('goe', 23), ('goer', 1), ('gold', 2), ('golden', 6), ('gon', 19), ('gone', 47), ('goo', 1), ('good', 1932), ('goodby', 1), ('goodi', 10), ('gooey', 3), ('gooiness', 1), ('gooo', 2), ('goooood', 1), ('gordi', 1), ('gordon', 71), ('gorg', 5), ('gorgeous', 18), ('gorgonzola', 2), ('gorilla', 1), ('gosh', 5), ('got', 271), ('gotten', 19), ('gouda', 3), ('goug', 2), ('gourmet', 48), ('gow', 2), ('gps', 1), ('gr', 6), ('gr8', 1), ('grab', 40), ('grace', 4), ('gracious', 5), ('grade', 4), ('graini', 2), ('grammerci', 1), ('grand', 7), ('granola', 3), ('grant', 6), ('grapefruit', 3), ('gras', 2), ('grasp', 1), ('grass', 2), ('grat', 1), ('gratin', 10), ('gratuiti', 9), ('gravi', 6), ('gray', 4), ('grazi', 1), ('greas', 6), ('greasi', 16), ('great', 1371), ('greater', 1), ('greatest', 18), ('greeat', 2), ('greek', 2), ('green', 30), ('greenhous', 3), ('greet', 13), ('gregg', 1), ('grew', 2), ('grey', 3), ('greyish', 2), ('grill', 25), ('grime', 1), ('grimi', 3), ('grip', 1), ('gripe', 5), ('gristl', 2), ('grit', 5), ('gritz', 3), ('groceri', 7), ('gross', 8), ('ground', 6), ('group', 31), ('groupon', 3), ('grow', 5), ('growl', 1), ('grub', 7), ('grumbl', 1), ('gruyer', 1), ('guac', 1), ('guacamol', 6), ('guam', 1), ('guarante', 6), ('guarantee', 1), ('guard', 3), ('guava', 2), ('guess', 40), ('guest', 27), ('gulab', 1), ('gulp', 3), ('gummi', 1), ('gun', 1), ('gut', 1), ('guy', 39), ('gwen', 2), ('h', 1), ('ha', 1), ('haaad', 1), ('haagan', 1), ('habit', 1), ('haha', 7), ('hail', 3), ('hair', 3), ('halal', 1), ('half', 79), ('halibut', 7), ('hall', 8), ('hallow', 1), ('halv', 4), ('ham', 20), ('hamburg', 9), ('hammer', 1), ('hampton', 3), ('hand', 91), ('handl', 9), ('hang', 7), ('hanger', 5), ('hangov', 7), ('happen', 22), ('happi', 55), ('happier', 4), ('happili', 2), ('har', 2), ('hard', 84), ('harden', 1), ('harder', 1), ('hardest', 1), ('harmon', 1), ('harrah', 5), ('harri', 3), ('haru', 1), ('hash', 67), ('hashbrown', 2), ('hassl', 5), ('hasten', 1), ('hat', 3), ('hate', 25), ('hater', 3), ('haul', 1), ('haut', 2), ('have', 1), ('hawaiian', 6), ('haze', 4), ('hazelnut', 3), ('hazi', 2), ('hc', 1), ('head', 38), ('headach', 3), ('headlight', 1), ('health', 5), ('healthi', 11), ('healthier', 2), ('heap', 2), ('hear', 16), ('heard', 31), ('heart', 10), ('heartbroken', 2), ('hearti', 9), ('heartier', 1), ('heartili', 3), ('heartland', 1), ('heat', 26), ('heater', 5), ('heath', 2), ('heav', 1), ('heaven', 23), ('heavi', 27), ('heavili', 4), ('hectic', 4), ('heft', 1), ('hefti', 6), ('hehe', 1), ('heheh', 1), ('held', 6), ('hell', 25), ('hella', 5), ('hello', 2), ('help', 100), ('hen', 7), ('henc', 3), ('hennessi', 1), ('herb', 9), ('herbal', 1), ('heritag', 1), ('hesit', 3), ('hesitit', 1), ('hey', 9), ('hh', 4), ('hhagg', 2), ('hi', 1), ('hibiscus', 1), ('hickori', 1), ('hidden', 19), ('hide', 1), ('high', 217), ('higher', 27), ('highest', 4), ('highlight', 28), ('hike', 4), ('hilari', 3), ('hill', 2), ('hilton', 1), ('hint', 8), ('hip', 16), ('hipster', 4), ('hire', 4), ('hit', 54), ('hitch', 1), ('hitter', 1), ('hjertet', 1), ('hk', 2), ('hmmm', 2), ('hoagi', 1), ('hoard', 1), ('hoboken', 1), ('hockey', 1), ('hog', 2), ('hold', 12), ('holder', 1), ('hole', 5), ('holiday', 31), ('hollandais', 6), ('hollondais', 1), ('hollow', 1), ('hollywood', 38), ('holstein', 1), ('home', 56), ('homeless', 1), ('homemad', 14), ('homer', 2), ('hometown', 2), ('homey', 7), ('homi', 1), ('homo', 1), ('honest', 73), ('honesti', 3), ('honey', 11), ('honeydew', 1), ('honor', 2), ('hook', 3), ('hoop', 1), ('hoopla', 1), ('hooter', 1), ('hope', 48), ('hor', 2), ('horchata', 3), ('hord', 2), ('horrend', 5), ('horribl', 61), ('horrif', 1), ('horseradish', 8), ('hospit', 3), ('host', 16), ('hostess', 41), ('hostil', 2), ('hot', 169), ('hotdog', 1), ('hotel', 101), ('hotter', 3), ('hour', 162), ('hous', 79), ('howev', 164), ('hr', 8), ('ht', 1), ('http', 10), ('hub', 2), ('hubbi', 4), ('hubster', 2), ('hudson', 1), ('huf', 1), ('huge', 216), ('huh', 2), ('hullabaloo', 2), ('human', 2), ('hummer', 1), ('hummus', 2), ('humong', 6), ('hundr', 5), ('hunger', 3), ('hungov', 3), ('hungri', 40), ('hurley', 1), ('hurri', 1), ('hurt', 3), ('husband', 65), ('hush', 1), ('hustl', 1), ('hutner', 2), ('huuuug', 2), ('hvad', 1), ('hyde', 4), ('hydrat', 1), ('hype', 64), ('hypnot', 2), ('hôtel', 1), ('ice', 85), ('icecream', 3), ('icki', 1), ('id', 3), ('idea', 26), ('ideal', 4), ('idem', 1), ('ident', 1), ('ie', 1), ('ig', 1), ('ignor', 12), ('ih', 1), ('ihop', 3), ('ii', 2), ('ill', 3), ('im', 5), ('imag', 3), ('imagin', 16), ('imho', 5), ('imit', 4), ('immacul', 1), ('immedi', 15), ('immens', 4), ('immensli', 1), ('imo', 8), ('impec', 5), ('impecc', 21), ('imperi', 4), ('imperson', 1), ('import', 20), ('impos', 1), ('imposs', 7), ('impract', 1), ('impress', 123), ('improb', 2), ('impromptu', 1), ('improv', 13), ('impun', 4), ('in', 1), ('inabl', 2), ('inattent', 1), ('incess', 1), ('inch', 7), ('incid', 3), ('inclin', 3), ('includ', 101), ('inclus', 2), ('incognito', 2), ('incompet', 7), ('inconsist', 3), ('inconveni', 4), ('increas', 11), ('incred', 52), ('incub', 1), ('inde', 8), ('indescrib', 1), ('indian', 22), ('indiana', 2), ('indic', 3), ('indiffer', 2), ('indistinguish', 1), ('individu', 49), ('indonesian', 1), ('indoor', 18), ('induc', 3), ('indulg', 10), ('industri', 4), ('inebri', 1), ('ined', 3), ('inept', 1), ('inexpens', 12), ('inexpert', 1), ('inexpress', 1), ('inferior', 1), ('infinit', 1), ('influenc', 4), ('info', 2), ('inform', 10), ('infuri', 1), ('infus', 6), ('ingredi', 56), ('inhal', 2), ('inher', 2), ('init', 1), ('initi', 9), ('injuri', 1), ('ink', 1), ('inkl', 1), ('inn', 2), ('innard', 1), ('innoc', 1), ('innov', 5), ('ino', 1), ('inov', 1), ('inquir', 3), ('insan', 15), ('insecur', 1), ('insert', 1), ('insid', 105), ('insist', 4), ('inspir', 7), ('instagram', 3), ('instanc', 3), ('instant', 10), ('instead', 54), ('institut', 1), ('insult', 1), ('intact', 2), ('intak', 4), ('integr', 2), ('intelligentsia', 2), ('intend', 2), ('intens', 1), ('intent', 2), ('interact', 7), ('interest', 43), ('interior', 46), ('intermedi', 1), ('intern', 8), ('interpret', 3), ('interrupt', 1), ('intim', 12), ('intimaci', 2), ('intimid', 2), ('intoler', 3), ('intrigu', 2), ('introduc', 3), ('intrus', 1), ('inund', 1), ('invent', 4), ('invit', 3), ('invoic', 1), ('involv', 3), ('ipad', 6), ('ipod', 2), ('iron', 6), ('irrit', 1), ('irvin', 1), ('ish', 11), ('island', 8), ('isnt', 9), ('isol', 1), ('issu', 17), ('ist', 1), ('itali', 4), ('italian', 95), ('item', 255), ('itinerari', 3), ('ive', 7), ('iwkafh0gtgqff23fcjw', 1), ('jabanero', 1), ('jack', 6), ('jacket', 3), ('jackpot', 1), ('jacquelin', 1), ('jalapeno', 5), ('jalapeño', 3), ('jam', 6), ('jamaican', 1), ('jame', 1), ('jan', 2), ('jane', 2), ('januari', 3), ('japan', 5), ('japanes', 37), ('japanesey', 1), ('japenes', 1), ('jar', 3), ('jasmin', 1), ('jaw', 2), ('jazz', 7), ('jean', 1), ('jekyl', 4), ('jelli', 4), ('jerk', 8), ('jerki', 3), ('jessi', 1), ('jesus', 1), ('jet', 1), ('jip', 2), ('jo', 1), ('job', 21), ('jockey', 1), ('joel', 2), ('john', 1), ('join', 2), ('joint', 35), ('joke', 12), ('jon', 1), ('jonah', 2), ('jook', 3), ('jose', 1), ('jour', 2), ('journal', 3), ('journey', 1), ('joy', 2), ('jsut', 2), ('judg', 6), ('judgement', 1), ('juevo', 4), ('juggl', 1), ('juic', 51), ('juicer', 1), ('juici', 22), ('juli', 4), ('jumbo', 7), ('jump', 1), ('jus', 4), ('justic', 5), ('justif', 1), ('justifi', 20), ('juuuuuuust', 1), ('kabab', 2), ('kaffir', 1), ('kah', 3), ('kai', 5), ('kale', 2), ('kani', 1), ('kanish', 2), ('kann', 1), ('kao', 5), ('kappa', 2), ('kareem', 1), ('kaysea', 2), ('kbbq', 2), ('kee', 2), ('keep', 89), ('keeper', 2), ('kept', 26), ('kernel', 1), ('ketchup', 7), ('keto', 2), ('key', 4), ('keylim', 2), ('kha', 5), ('khao', 4), ('khaoi', 2), ('kick', 22), ('kickass', 1), ('kicker', 1), ('kid', 31), ('kill', 9), ('killer', 1), ('kimchi', 1), ('kind', 151), ('kinda', 24), ('king', 54), ('kitchen', 53), ('knew', 22), ('knife', 1), ('knive', 1), ('knock', 7), ('knockoff', 2), ('knockout', 2), ('know', 188), ('knowledg', 18), ('known', 15), ('knuckl', 1), ('kobe', 21), ('kokomo', 1), ('koong', 1), ('korbett', 1), ('korean', 21), ('krispi', 1), ('kronenbourg', 1), ('kudo', 1), ('kung', 2), ('l', 10), ('la', 171), ('label', 5), ('labor', 1), ('lack', 118), ('lackadais', 1), ('lacklust', 9), ('lactos', 2), ('laden', 2), ('ladi', 23), ('ladl', 1), ('laid', 5), ('lamb', 76), ('lambchop', 2), ('lame', 3), ('lament', 1), ('lamp', 11), ('land', 5), ('landmark', 1), ('lane', 2), ('langoustin', 1), ('lanterna', 2), ('lap', 3), ('larb', 2), ('larg', 146), ('larger', 9), ('lasagna', 15), ('laser', 1), ('lassi', 1), ('last', 107), ('late', 41), ('later', 26), ('latest', 2), ('latin', 3), ('latt', 1), ('latter', 1), ('laugh', 3), ('lava', 4), ('lawn', 2), ('lawri', 2), ('lay', 1), ('layer', 3), ('layout', 26), ('lb', 2), ('le', 101), ('lead', 7), ('leaf', 2), ('leagu', 1), ('leak', 2), ('lean', 1), ('learn', 4), ('least', 99), ('leather', 1), ('leav', 53), ('lech', 1), ('lee', 1), ('leek', 2), ('left', 74), ('leftov', 22), ('leg', 225), ('legit', 5), ('lemon', 15), ('lemonad', 4), ('length', 5), ('lentil', 1), ('leon', 6), ('lesser', 4), ('lesson', 1), ('let', 68), ('letdown', 6), ('lettuc', 11), ('level', 31), ('ley', 2), ('liberti', 1), ('lick', 2), ('lie', 10), ('life', 32), ('lifeless', 1), ('light', 67), ('lighter', 3), ('lightn', 1), ('lightweight', 1), ('like', 878), ('lil', 10), ('limb', 1), ('lime', 3), ('limey', 1), ('limit', 62), ('line', 327), ('lineback', 2), ('linen', 1), ('linger', 2), ('link', 1), ('linq', 5), ('lip', 2), ('liquer', 1), ('liquid', 3), ('liquor', 2), ('list', 86), ('listen', 3), ('lit', 13), ('liter', 23), ('littl', 294), ('live', 60), ('liver', 7), ('lizard', 2), ('lloovv', 1), ('load', 9), ('loader', 1), ('loaf', 3), ('lobbi', 4), ('lobster', 46), ('local', 27), ('locat', 265), ('log', 2), ('logo', 2), ('loin', 2), ('lol', 29), ('lola', 1), ('lolli', 2), ('lolol', 1), ('london', 1), ('long', 262), ('longer', 29), ('longest', 2), ('longish', 1), ('lonk', 2), ('look', 367), ('looooov', 1), ('loooov', 1), ('looov', 2), ('lorrain', 2), ('los', 2), ('lose', 11), ('lost', 13), ('lot', 311), ('lotus', 42), ('loud', 23), ('louder', 2), ('loung', 2), ('lousi', 8), ('love', 385), ('loveeeeeee', 1), ('loveli', 3), ('lover', 13), ('low', 39), ('lower', 18), ('lowest', 2), ('lowlight', 5), ('lox', 5), ('luck', 6), ('lucki', 14), ('luckili', 9), ('luke', 5), ('lukewarm', 6), ('lump', 1), ('lumpi', 2), ('lunch', 200), ('lure', 1), ('luscious', 1), ('luster', 2), ('lux', 1), ('luxuri', 7), ('lv', 15), ('lyche', 2), ('m22z', 2), ('mac', 55), ('macaron', 17), ('macaroni', 6), ('macaroon', 8), ('machaca', 1), ('machin', 10), ('mad', 5), ('madam', 2), ('made', 226), ('mag', 1), ('magazin', 2), ('magic', 1), ('magnific', 11), ('mah', 1), ('mahi', 4), ('mai', 4), ('main', 47), ('maintain', 5), ('maitr', 2), ('major', 25), ('make', 354), ('maki', 4), ('makino', 1), ('malcolm', 1), ('male', 2), ('malfunct', 1), ('mall', 35), ('mamosa', 3), ('man', 18), ('manag', 97), ('manchego', 1), ('manchest', 1), ('mandalay', 3), ('mandatori', 4), ('mandi', 1), ('maneuv', 1), ('mango', 20), ('manhattan', 24), ('manhattanit', 7), ('manhatten', 1), ('manhol', 1), ('mani', 236), ('manikin', 1), ('manner', 2), ('mao', 3), ('mapl', 3), ('march', 2), ('mare', 1), ('margarita', 2), ('margheritta', 2), ('mari', 48), ('marianara', 1), ('marilyn', 1), ('marin', 8), ('marinara', 4), ('mark', 10), ('market', 10), ('marmalad', 1), ('marque', 2), ('marriott', 1), ('marrow', 21), ('marrowwwww', 1), ('marsala', 1), ('marshmallow', 5), ('martini', 7), ('marvel', 2), ('maryland', 2), ('masala', 1), ('mash', 28), ('mask', 1), ('mass', 8), ('massag', 2), ('massiv', 23), ('master', 3), ('masterchef', 1), ('match', 34), ('materi', 1), ('matt', 5), ('matter', 23), ('maxim', 1), ('may', 57), ('mayb', 81), ('mayo', 4), ('maze', 7), ('meager', 1), ('meal', 346), ('meali', 1), ('mean', 61), ('meant', 7), ('measur', 2), ('meat', 242), ('meatbal', 13), ('meati', 5), ('meatless', 1), ('meatloaf', 5), ('med', 2), ('medal', 1), ('medicor', 2), ('mediocr', 75), ('mediterranean', 1), ('meditteranean', 1), ('medium', 17), ('meet', 13), ('meh', 9), ('mein', 6), ('melissa', 2), ('mellow', 1), ('melt', 30), ('member', 14), ('memor', 23), ('memori', 5), ('men', 3), ('mental', 1), ('mention', 35), ('menu', 220), ('meringu', 1), ('merlot', 11), ('mermaid', 2), ('mess', 19), ('messag', 3), ('messi', 4), ('met', 7), ('metal', 2), ('method', 2), ('meticul', 2), ('metric', 1), ('mexican', 53), ('mf', 1), ('mgm', 4), ('mi', 1), ('mia', 2), ('miami', 1), ('michael', 1), ('michelin', 2), ('microwav', 1), ('mid', 6), ('middl', 10), ('midlight', 1), ('midst', 1), ('midtown', 2), ('mif', 2), ('miga', 1), ('might', 57), ('mighti', 3), ('mignon', 14), ('milan', 1), ('mild', 7), ('mile', 16), ('mileau', 5), ('milk', 9), ('milkshak', 9), ('mill', 2), ('miller', 2), ('million', 1), ('mimosa', 42), ('min', 40), ('mind', 69), ('mindless', 1), ('mine', 11), ('mini', 41), ('miniatur', 5), ('minim', 16), ('minimum', 2), ('minimun', 2), ('minin', 4), ('minnow', 1), ('minor', 5), ('mint', 3), ('minus', 19), ('minut', 153), ('miracl', 6), ('mirag', 4), ('miscellan', 1), ('miser', 7), ('mish', 1), ('miso', 4), ('miss', 46), ('mission', 1), ('misstep', 1), ('mist', 2), ('mistak', 7), ('mistaken', 2), ('mistreat', 1), ('mitsuwa', 1), ('mix', 21), ('mixup', 1), ('mizu', 6), ('mmhmm', 1), ('mmm', 1), ('mmmm', 9), ('mmmmm', 1), ('mmmmmmhmmmmm', 1), ('mmmmmmmm', 3), ('mmmmmmmmmmmmm', 1), ('mn', 3), ('moat', 1), ('mobil', 1), ('mocha', 1), ('mochi', 13), ('model', 2), ('moder', 10), ('modern', 26), ('modifi', 1), ('mohawk', 1), ('moist', 9), ('mojito', 1), ('mom', 6), ('moment', 16), ('momentarili', 1), ('mon', 77), ('monaco', 1), ('monday', 12), ('monetari', 2), ('money', 159), ('moni', 3), ('monseiur', 2), ('monster', 1), ('monstrous', 3), ('montagu', 20), ('month', 16), ('monti', 1), ('mood', 8), ('moodi', 3), ('moooor', 1), ('mop', 1), ('moreov', 2), ('morn', 22), ('mortadella', 2), ('mortal', 5), ('mortgag', 2), ('most', 24), ('mother', 2), ('motion', 1), ('moul', 2), ('mound', 7), ('mountain', 4), ('mous', 1), ('mouss', 12), ('mouth', 43), ('mouthwat', 4), ('move', 36), ('movi', 5), ('mozzarella', 7), ('mr', 8), ('msg', 4), ('much', 372), ('muffin', 11), ('mug', 4), ('muggi', 2), ('multi', 1), ('multipl', 18), ('munch', 1), ('munchi', 1), ('mundan', 3), ('murray', 2), ('musaman', 1), ('muscl', 3), ('mushi', 2), ('mushroom', 23), ('music', 40), ('muslim', 1), ('mussel', 29), ('mussl', 5), ('must', 125), ('mustard', 6), ('musubi', 1), ('mutter', 2), ('mvf', 1), ('myagi', 1), ('myriad', 2), ('mysteri', 4), ('myvega', 2), ('n', 32), ('na', 23), ('naan', 2), ('nab', 1), ('nacho', 8), ('nada', 1), ('nail', 3), ('nam', 7), ('name', 70), ('namesak', 2), ('nan', 1), ('nap', 1), ('napkin', 7), ('nasti', 3), ('nation', 1), ('nativ', 2), ('natur', 9), ('naughti', 2), ('nausea', 1), ('nay', 1), ('near', 63), ('nearbi', 4), ('neat', 14), ('necessari', 1), ('necessarili', 6), ('need', 111), ('needi', 1), ('needle', 3), ('negat', 13), ('neglect', 4), ('neigh', 1), ('neighborhood', 14), ('neither', 10), ('neon', 3), ('nero', 1), ('nervous', 1), ('ness', 1), ('network', 3), ('nevada', 3), ('never', 194), ('nevertheless', 2), ('new', 97), ('newcastl', 2), ('newer', 4), ('newest', 2), ('news', 7), ('next', 118), ('ngyow', 1), ('nice', 460), ('nicer', 13), ('nicest', 9), ('night', 165), ('nightmar', 4), ('nighttim', 1), ('nigiri', 4), ('nincompoop', 2), ('nj', 2), ('nobodi', 4), ('noddl', 1), ('noir', 5), ('nois', 7), ('noisi', 20), ('nom', 1), ('non', 38), ('nonchal', 1), ('nondescript', 4), ('none', 37), ('nonetheless', 11), ('nonsens', 1), ('noodl', 69), ('nook', 1), ('noon', 6), ('nooooo', 1), ('nope', 4), ('normal', 48), ('north', 6), ('northeast', 1), ('northern', 22), ('nose', 2), ('nosh', 2), ('not', 37), ('notabl', 8), ('notch', 46), ('note', 28), ('noteworthi', 1), ('noth', 189), ('notic', 31), ('notifi', 4), ('notorieti', 1), ('nourritur', 1), ('novel', 4), ('novemb', 1), ('nowaday', 1), ('nowher', 9), ('nt', 2), ('ntpchpgwpnfier56x1dz1q', 2), ('nua', 1), ('nuer', 2), ('numb', 1), ('number', 27), ('numer', 2), ('nut', 11), ('nutella', 5), ('nutti', 1), ('nuttin', 1), ('ny', 15), ('nyc', 17), ('nye', 3), ('oasi', 3), ('oatmeal', 3), ('ob', 1), ('obnoxi', 4), ('obscur', 2), ('observ', 1), ('obvious', 21), ('oc', 2), ('ocasion', 2), ('ocb', 3), ('occas', 14), ('occasion', 1), ('occass', 4), ('occupi', 1), ('occur', 1), ('ocean', 2), ('octob', 3), ('octopus', 2), ('odd', 7), ('oder', 1), ('odor', 1), ('oeuvr', 1), ('offa', 2), ('offend', 1), ('offens', 4), ('offer', 202), ('offic', 1), ('offici', 3), ('offstrip', 2), ('ofr', 2), ('often', 33), ('oftentim', 1), ('oh', 46), ('ohh', 4), ('ohhhh', 2), ('ohhhhh', 2), ('oil', 9), ('oili', 9), ('oj', 4), ('ok', 152), ('okay', 63), ('old', 44), ('ole', 1), ('oliv', 7), ('omelet', 13), ('omelett', 13), ('omg', 24), ('omggggg', 1), ('omggggggg', 2), ('omlet', 2), ('omlett', 2), ('omnivor', 2), ('one', 709), ('ong', 1), ('onion', 59), ('onlin', 3), ('onset', 2), ('onsit', 1), ('onto', 7), ('oop', 1), ('ooz', 1), ('open', 99), ('oper', 1), ('opera', 3), ('opinion', 32), ('opinon', 2), ('opportun', 3), ('oppos', 2), ('opposit', 3), ('oprah', 2), ('opt', 8), ('optim', 1), ('option', 247), ('orang', 23), ('order', 365), ('ordinari', 14), ('oregon', 1), ('oreo', 9), ('organ', 14), ('orgasm', 4), ('orient', 2), ('origin', 29), ('orzo', 2), ('osso', 1), ('ostrich', 4), ('osv', 3), ('other', 42), ('otherwis', 19), ('ounc', 5), ('ourstand', 1), ('outback', 2), ('outdat', 2), ('outdoor', 47), ('outer', 3), ('outfit', 3), ('outing', 2), ('outlook', 2), ('outrag', 13), ('outright', 1), ('outsid', 147), ('outstand', 39), ('outta', 1), ('oven', 6), ('over', 26), ('overal', 288), ('overboard', 1), ('overburden', 1), ('overcharg', 2), ('overcom', 2), ('overcompens', 4), ('overcook', 13), ('overcrowd', 3), ('overdon', 3), ('overeat', 3), ('overflow', 1), ('overheard', 2), ('overhyp', 7), ('overindulg', 1), ('overload', 6), ('overlook', 17), ('overpow', 5), ('overpr', 59), ('overpric', 1), ('overr', 8), ('overstuf', 1), ('overt', 1), ('overton', 1), ('overtook', 1), ('overwhelm', 23), ('ow', 2), ('own', 5), ('owner', 11), ('oxtail', 2), ('oxymoron', 2), ('oyster', 61), ('oz', 3), ('p', 9), ('pace', 9), ('pack', 35), ('packag', 1), ('pad', 52), ('paella', 3), ('page', 2), ('pager', 1), ('paid', 71), ('pain', 5), ('paint', 2), ('pair', 21), ('pajama', 1), ('palac', 32), ('palat', 15), ('palazzo', 2), ('pale', 1), ('palet', 1), ('palett', 4), ('palm', 4), ('palmer', 1), ('palpit', 1), ('pam', 1), ('pan', 21), ('panang', 4), ('pancak', 35), ('panchetta', 2), ('panda', 3), ('pandan', 1), ('panera', 1), ('panini', 4), ('panna', 3), ('pant', 1), ('pao', 2), ('papaya', 2), ('paper', 4), ('par', 57), ('parboil', 1), ('parent', 5), ('parfait', 3), ('pari', 47), ('parisian', 14), ('park', 20), ('parlor', 5), ('parm', 1), ('parmesan', 7), ('parmesean', 3), ('part', 92), ('parti', 56), ('partial', 2), ('particular', 42), ('particulari', 2), ('partner', 3), ('pas', 43), ('passion', 6), ('passionfruit', 2), ('past', 31), ('pasta', 88), ('pastel', 3), ('pasti', 1), ('pastor', 1), ('pastrami', 5), ('pastri', 25), ('pate', 6), ('path', 2), ('pathet', 7), ('pati', 1), ('patienc', 2), ('patient', 10), ('patio', 111), ('patron', 8), ('patronag', 2), ('patroon', 2), ('patti', 10), ('paus', 2), ('pay', 185), ('payment', 5), ('pea', 5), ('peac', 3), ('peach', 3), ('peak', 8), ('peal', 1), ('peanut', 4), ('pear', 3), ('peasant', 1), ('pecan', 2), ('pedestrian', 3), ('pee', 1), ('peel', 2), ('peev', 2), ('peic', 1), ('peke', 3), ('penang', 6), ('penetr', 1), ('penn', 10), ('penni', 17), ('peopl', 269), ('pep', 2), ('pepper', 10), ('peppercorn', 5), ('pepperjack', 1), ('pepperoni', 2), ('per', 70), ('percentag', 1), ('perfect', 178), ('perform', 3), ('perhap', 19), ('period', 12), ('perk', 2), ('permit', 1), ('person', 196), ('perspect', 4), ('pescatarian', 2), ('pesto', 7), ('pet', 2), ('ph', 7), ('phanom', 1), ('phenoman', 1), ('phenomen', 20), ('philli', 1), ('pho', 19), ('phone', 7), ('photo', 12), ('photograph', 2), ('phrase', 1), ('phucklet', 1), ('pic', 4), ('pick', 30), ('picki', 8), ('pickiest', 1), ('pickl', 2), ('pictur', 20), ('pie', 23), ('piec', 37), ('pig', 13), ('pile', 16), ('pillar', 1), ('pin', 1), ('pineappl', 8), ('pink', 13), ('pipe', 2), ('piquant', 1), ('piss', 3), ('pistachio', 10), ('pit', 1), ('pita', 2), ('pitfal', 1), ('piti', 2), ('pixar', 1), ('pizza', 139), ('pizzaria', 2), ('pizzeria', 2), ('place', 1253), ('plagu', 1), ('plain', 22), ('plan', 24), ('plane', 2), ('planet', 40), ('plant', 2), ('plastic', 3), ('plate', 249), ('platinum', 1), ('platter', 9), ('play', 20), ('player', 8), ('plaza', 10), ('plea', 65), ('pleasant', 56), ('pleaseee', 2), ('pleasur', 4), ('plenti', 69), ('plethora', 6), ('plumb', 1), ('plump', 3), ('plus', 42), ('pm', 11), ('pmknnkgvgzhmkwjatu5apa', 1), ('po', 1), ('poach', 8), ('pocket', 1), ('pod', 1), ('point', 90), ('poison', 8), ('poivr', 4), ('poke', 4), ('poker', 3), ('polenta', 4), ('polici', 2), ('polit', 15), ('poll', 1), ('pomm', 1), ('pomodori', 1), ('ponderosa', 4), ('poni', 1), ('poor', 79), ('poorer', 4), ('pop', 14), ('popcorn', 2), ('popper', 3), ('popular', 38), ('porch', 1), ('porcini', 4), ('pork', 76), ('porridg', 6), ('portion', 334), ('portland', 1), ('posit', 12), ('possibl', 30), ('possilbl', 2), ('post', 7), ('postal', 1), ('pot', 33), ('potato', 87), ('potbelli', 1), ('potent', 1), ('potenti', 6), ('potion', 4), ('potoato', 2), ('potpourri', 1), ('potstick', 2), ('poultri', 2), ('pound', 4), ('pour', 3), ('pow', 1), ('powder', 3), ('power', 2), ('pozol', 2), ('pp', 10), ('practic', 6), ('prais', 6), ('prawn', 23), ('pray', 3), ('pre', 23), ('preach', 2), ('precious', 1), ('predilect', 1), ('prefac', 2), ('prefer', 26), ('prefix', 1), ('premad', 2), ('premier', 2), ('premis', 3), ('premium', 12), ('prep', 3), ('prepar', 81), ('preport', 1), ('presen', 1), ('present', 223), ('preserv', 3), ('press', 6), ('pressur', 2), ('prestig', 2), ('pretenti', 9), ('pretti', 360), ('prettier', 1), ('prettiest', 2), ('pretzel', 2), ('previous', 18), ('price', 962), ('pricer', 1), ('pricest', 2), ('pricey', 114), ('prici', 25), ('pricier', 1), ('pride', 4), ('prik', 1), ('primavera', 1), ('prime', 148), ('primerib', 1), ('primo', 2), ('print', 1), ('prioriti', 1), ('prison', 1), ('pristin', 2), ('privat', 8), ('privileg', 1), ('prix', 10), ('prize', 1), ('pro', 27), ('prob', 1), ('probabl', 167), ('problem', 24), ('probli', 1), ('proceed', 1), ('process', 8), ('produc', 3), ('product', 8), ('profession', 26), ('profil', 4), ('profiterol', 7), ('profus', 1), ('program', 1), ('progress', 1), ('prole', 1), ('promis', 7), ('promot', 1), ('prompt', 32), ('prop', 5), ('proper', 7), ('properti', 3), ('proport', 6), ('proportion', 3), ('proposit', 1), ('proprietor', 2), ('proscuitto', 3), ('protect', 2), ('protein', 6), ('prove', 7), ('proven', 2), ('provid', 25), ('prune', 1), ('pub', 3), ('puck', 3), ('pud', 21), ('puff', 6), ('puke', 1), ('pull', 10), ('pumkin', 3), ('pumpkin', 5), ('pun', 3), ('punch', 2), ('punctual', 1), ('purchas', 6), ('pure', 12), ('purpl', 2), ('purpos', 2), ('push', 8), ('pushi', 1), ('put', 62), ('puy', 1), ('puzzl', 1), ('q', 2), ('quad', 3), ('quail', 3), ('quaint', 8), ('qualifi', 1), ('qualiti', 612), ('quantiti', 44), ('quantitiy', 4), ('quart', 1), ('quarter', 2), ('quater', 3), ('que', 1), ('queen', 1), ('quesadilla', 2), ('quest', 1), ('question', 30), ('queu', 1), ('queue', 5), ('quibbl', 1), ('quich', 7), ('quick', 122), ('quicker', 1), ('quiet', 12), ('quinoa', 1), ('quirki', 2), ('quit', 145), ('quizno', 3), ('quot', 1), ('r', 2), ('r1s_vdd_m9kg2mdr1qsekq', 1), ('rabe', 1), ('racer', 1), ('rack', 9), ('rad', 1), ('raddichio', 2), ('radiant', 1), ('raff', 2), ('rag', 2), ('raga', 1), ('rage', 4), ('rain', 3), ('rainbow', 1), ('raini', 2), ('rais', 10), ('rambuncti', 1), ('ramekin', 2), ('ramen', 19), ('ramsay', 52), ('ramsey', 24), ('ran', 12), ('ranch', 3), ('rancher', 2), ('ranchero', 2), ('random', 12), ('rang', 41), ('rank', 3), ('rant', 3), ('rao', 3), ('rare', 28), ('raspberri', 5), ('rat', 1), ('ratatouill', 3), ('rate', 70), ('rather', 87), ('ratio', 2), ('ration', 1), ('raucous', 3), ('rave', 17), ('ravioli', 20), ('raw', 13), ('reach', 6), ('react', 1), ('read', 27), ('readi', 16), ('real', 58), ('realist', 4), ('realiz', 16), ('realli', 625), ('reason', 203), ('recal', 1), ('reccomend', 4), ('receipi', 1), ('receipt', 2), ('receiv', 35), ('recent', 15), ('recept', 2), ('reciev', 7), ('recogn', 4), ('recognit', 1), ('recom', 1), ('recomend', 1), ('recommand', 1), ('recommend', 244), ('rectif', 1), ('red', 40), ('redeem', 7), ('redefin', 1), ('redempt', 1), ('redo', 2), ('redol', 1), ('redon', 1), ('reduc', 1), ('reduct', 6), ('reek', 4), ('refer', 4), ('refil', 52), ('refin', 2), ('refir', 1), ('reflect', 5), ('refresh', 10), ('refund', 3), ('refus', 10), ('reg', 3), ('regard', 6), ('regardless', 5), ('region', 2), ('regist', 2), ('regret', 18), ('regular', 53), ('reign', 2), ('reimagin', 1), ('relat', 21), ('relationship', 1), ('relax', 23), ('relentless', 1), ('reli', 2), ('reliabl', 2), ('relish', 3), ('reliv', 1), ('reloc', 1), ('reluct', 2), ('remain', 12), ('remaind', 2), ('remak', 6), ('remakng', 1), ('remark', 7), ('remeb', 1), ('rememb', 47), ('remi', 1), ('remind', 22), ('reminisc', 1), ('remodel', 2), ('remot', 2), ('remov', 7), ('renaiss', 2), ('render', 1), ('rendit', 1), ('reno', 2), ('renown', 1), ('reopen', 2), ('repair', 1), ('repeat', 8), ('replac', 5), ('replenish', 10), ('repli', 5), ('report', 3), ('repres', 3), ('reput', 7), ('request', 25), ('requir', 2), ('research', 6), ('reseat', 3), ('resembl', 1), ('reserv', 55), ('resist', 2), ('resort', 10), ('respect', 4), ('respond', 2), ('respons', 3), ('rest', 56), ('restaraunt', 6), ('restauar', 1), ('restaur', 797), ('resthrant', 1), ('resto', 3), ('restrict', 2), ('restroom', 10), ('restur', 5), ('resturaunt', 2), ('result', 10), ('retain', 2), ('retir', 1), ('retort', 1), ('retriev', 2), ('return', 62), ('reuben', 2), ('reunion', 1), ('revers', 1), ('review', 151), ('revisit', 3), ('reward', 13), ('rhaxxwriddshz5mwbyxa4q', 1), ('rhonda', 1), ('rib', 179), ('ribbon', 1), ('ribey', 6), ('rice', 97), ('rich', 19), ('richard', 1), ('rid', 3), ('riddicul', 1), ('ride', 3), ('ridic', 1), ('ridicul', 49), ('ridiculousi', 1), ('riesl', 6), ('rieu', 1), ('riff', 2), ('rigatoni', 3), ('right', 180), ('rind', 1), ('ring', 17), ('rio', 16), ('rip', 8), ('ripe', 4), ('ripoff', 5), ('rise', 2), ('risk', 4), ('riski', 1), ('risotto', 17), ('rissoto', 1), ('rival', 6), ('river', 2), ('rj4gokkwtclswg', 2), ('road', 4), ('roast', 58), ('robberi', 1), ('robuchon', 2), ('robust', 2), ('rock', 11), ('rockefel', 3), ('roe', 1), ('roll', 65), ('romain', 3), ('romanc', 3), ('romant', 35), ('rome', 2), ('room', 116), ('roomi', 2), ('roommat', 1), ('roosevelt', 7), ('root', 4), ('rope', 1), ('rosa', 1), ('rose', 3), ('rosemari', 3), ('rotat', 1), ('roth', 1), ('roti', 5), ('rotini', 1), ('rotisseri', 4), ('roug', 1), ('rough', 3), ('roughag', 3), ('roulett', 1), ('round', 10), ('rouqefort', 1), ('row', 10), ('roxi', 4), ('royalti', 2), ('rub', 3), ('rubber', 4), ('rubberi', 4), ('rude', 34), ('ruin', 15), ('rule', 1), ('rumor', 1), ('run', 43), ('runner', 2), ('runni', 8), ('rus', 2), ('rush', 23), ('rustic', 1), ('sad', 33), ('safe', 2), ('saffron', 2), ('sage', 13), ('sahara', 6), ('saiad', 1), ('said', 86), ('saint', 2), ('saipan', 2), ('sake', 14), ('salad', 214), ('salami', 3), ('saliv', 1), ('salli', 2), ('salmon', 73), ('salsa', 6), ('salt', 25), ('salti', 48), ('sammi', 2), ('sampl', 29), ('san', 15), ('sandwhich', 2), ('sandwich', 409), ('sangria', 4), ('santa', 4), ('saoi', 2), ('sapphir', 1), ('sarah', 1), ('saran', 1), ('sarcast', 1), ('sardin', 5), ('sashimi', 24), ('sassi', 3), ('sat', 47), ('satay', 2), ('satiat', 2), ('satisfact', 1), ('satisfactori', 1), ('satisfi', 40), ('satur', 2), ('saturday', 22), ('sauc', 128), ('saucepan', 2), ('sauci', 2), ('saul', 5), ('sausag', 39), ('saute', 2), ('sauté', 1), ('savag', 1), ('save', 56), ('savor', 3), ('savori', 11), ('saw', 34), ('say', 231), ('scale', 5), ('scallion', 2), ('scallop', 31), ('scampi', 4), ('scantili', 1), ('scape', 2), ('scare', 3), ('scarf', 1), ('scari', 2), ('scatter', 1), ('scene', 8), ('sceneri', 3), ('schedul', 3), ('school', 8), ('schwarzenegg', 1), ('scof', 1), ('scoop', 10), ('scoot', 3), ('scorch', 1), ('score', 6), ('scott', 1), ('scotti', 1), ('scrambl', 10), ('scrap', 3), ('scratch', 4), ('scream', 2), ('screen', 1), ('screw', 2), ('scrimp', 2), ('scrummi', 1), ('scrumptious', 6), ('scurri', 1), ('sd', 5), ('se', 5), ('sea', 26), ('seabass', 9), ('seafood', 258), ('seamless', 1), ('sear', 4), ('search', 6), ('season', 40), ('seat', 247), ('seater', 1), ('seattl', 1), ('seawe', 2), ('second', 83), ('secret', 10), ('section', 159), ('secur', 4), ('seduct', 2), ('see', 131), ('seed', 2), ('seedi', 2), ('seek', 2), ('seem', 142), ('seen', 42), ('selecion', 3), ('select', 563), ('self', 12), ('selfi', 1), ('sell', 8), ('semi', 4), ('sen', 9), ('send', 11), ('senior', 1), ('sensit', 1), ('sensual', 3), ('sent', 6), ('separ', 17), ('septemb', 1), ('septet', 1), ('sequel', 1), ('serendip', 32), ('serendipti', 1), ('seriouli', 1), ('serious', 39), ('serv', 251), ('server', 233), ('servic', 1561), ('sesam', 4), ('set', 95), ('settl', 3), ('setup', 4), ('seven', 3), ('sever', 71), ('sex', 1), ('sexi', 4), ('sf', 1), ('sfo', 2), ('sgv', 1), ('shabu', 4), ('shack', 2), ('shade', 4), ('shadi', 7), ('shadow', 1), ('shake', 33), ('shaker', 1), ('shakespearean', 1), ('shall', 3), ('shame', 6), ('shanghai', 2), ('shank', 1), ('shanti', 6), ('shao', 1), ('shape', 4), ('share', 74), ('shatter', 1), ('shave', 1), ('shawn', 1), ('shebang', 2), ('sheer', 4), ('shelf', 3), ('shell', 17), ('shi', 4), ('shift', 2), ('ship', 1), ('shirt', 6), ('shit', 4), ('shiti', 2), ('shock', 7), ('shoe', 1), ('shoestr', 3), ('shoo', 2), ('shoot', 1), ('shooter', 3), ('shop', 34), ('short', 55), ('shortag', 2), ('shortcak', 2), ('shorter', 2), ('shortrib', 2), ('shot', 18), ('shoulder', 3), ('shout', 5), ('shove', 1), ('shovel', 1), ('show', 103), ('shown', 2), ('shoyu', 1), ('shred', 4), ('shrimp', 150), ('shroom', 1), ('shu', 4), ('shucker', 1), ('shuffl', 2), ('shut', 2), ('siam', 28), ('sick', 13), ('side', 116), ('sidewalk', 7), ('sieh', 1), ('sigh', 4), ('sight', 7), ('sign', 25), ('signag', 2), ('signal', 1), ('signatur', 9), ('signific', 8), ('silicon', 2), ('silli', 2), ('silver', 1), ('silverwar', 4), ('sim', 2), ('similar', 15), ('simpl', 36), ('simplest', 1), ('simpli', 39), ('simplic', 5), ('simplier', 1), ('simpson', 1), ('sin', 7), ('sinc', 142), ('sincer', 2), ('singapor', 1), ('singl', 36), ('sip', 6), ('siracha', 3), ('sirloin', 4), ('sister', 6), ('sit', 127), ('situat', 11), ('siu', 4), ('six', 9), ('size', 99), ('sizzler', 1), ('skaldyr', 1), ('skate', 1), ('skeptic', 3), ('sketch', 1), ('sketchi', 7), ('skilin', 2), ('skill', 2), ('skillet', 4), ('skimp', 1), ('skimpi', 4), ('skin', 3), ('skinni', 4), ('skinnier', 1), ('skip', 32), ('skirt', 7), ('slab', 5), ('slack', 3), ('slam', 1), ('slap', 3), ('slave', 2), ('sleek', 7), ('sleep', 2), ('sleepi', 1), ('sleeveless', 1), ('slept', 1), ('slice', 38), ('slide', 1), ('slider', 32), ('slight', 44), ('slightest', 1), ('slim', 2), ('slipperi', 1), ('sloppi', 1), ('sloppili', 1), ('slot', 10), ('slow', 54), ('slower', 3), ('slowli', 3), ('slurp', 2), ('slush', 1), ('small', 171), ('smaller', 22), ('smallest', 2), ('smanci', 1), ('smart', 2), ('smash', 4), ('smatter', 2), ('smell', 14), ('smelli', 2), ('smile', 24), ('smiley', 1), ('smith', 2), ('smock', 1), ('smoke', 32), ('smokey', 2), ('smoki', 2), ('smooth', 3), ('smoothi', 2), ('smore', 2), ('smother', 2), ('snack', 11), ('snag', 1), ('snail', 2), ('snap', 1), ('snapchat', 1), ('snapper', 3), ('snappi', 2), ('snatch', 1), ('snippet', 1), ('snippi', 1), ('snob', 2), ('snobbi', 1), ('snobbish', 1), ('snoop', 1), ('snow', 26), ('snowcrab', 1), ('snowi', 1), ('soak', 8), ('soba', 1), ('sober', 3), ('social', 5), ('soda', 7), ('sodium', 2), ('soft', 33), ('soggi', 19), ('sogood', 2), ('soh', 2), ('soho', 8), ('soi', 6), ('sold', 2), ('soldier', 1), ('sole', 1), ('solid', 53), ('solo', 1), ('solv', 4), ('somebodi', 3), ('somehow', 12), ('someon', 37), ('somet', 1), ('someth', 133), ('sometim', 26), ('somewhat', 21), ('somewher', 14), ('sommeli', 1), ('somosa', 5), ('son', 8), ('song', 2), ('soo', 9), ('soon', 27), ('sooner', 1), ('sooo', 10), ('soooo', 7), ('sooooo', 10), ('soooooo', 3), ('sooooooo', 1), ('soooooooooooo', 1), ('sooooooooooooo', 3), ('sooth', 3), ('sop', 3), ('sophia', 1), ('sophist', 4), ('sorbet', 12), ('sorbetto', 1), ('sore', 4), ('sorri', 11), ('sorrow', 1), ('sort', 13), ('souffl', 4), ('soufflé', 2), ('soul', 2), ('sound', 16), ('soundtrack', 1), ('soup', 130), ('soupi', 4), ('sour', 11), ('sourc', 1), ('sourdough', 3), ('south', 5), ('southern', 3), ('souvenir', 1), ('souvinir', 1), ('soy', 6), ('space', 26), ('spacious', 12), ('spaghetti', 8), ('spam', 1), ('spanish', 3), ('spar', 3), ('spare', 1), ('spark', 1), ('sparkl', 2), ('speak', 18), ('spear', 1), ('speci', 1), ('special', 147), ('specialti', 11), ('specif', 8), ('specifi', 2), ('spectacular', 57), ('spectat', 3), ('spectrum', 3), ('speed', 5), ('speedi', 6), ('spell', 5), ('spend', 72), ('spendi', 2), ('spensiv', 3), ('spent', 28), ('sphagetti', 1), ('spice', 23), ('spici', 64), ('spicier', 1), ('spike', 1), ('spill', 7), ('spinach', 9), ('spirit', 6), ('spiritu', 1), ('spit', 6), ('splash', 3), ('splendid', 2), ('split', 24), ('splurg', 3), ('spoil', 5), ('spoke', 7), ('spong', 1), ('spoon', 141), ('sport', 6), ('spot', 127), ('spotless', 3), ('spotti', 7), ('spread', 31), ('spring', 3), ('sprinkl', 6), ('sprout', 8), ('spruce', 1), ('spændend', 1), ('squad', 1), ('squar', 4), ('squash', 7), ('squeez', 7), ('squid', 4), ('srandard', 2), ('sriraricha', 1), ('st', 8), ('stack', 7), ('staf', 7), ('staff', 261), ('stagnat', 3), ('stain', 2), ('stainless', 1), ('stake', 3), ('stale', 14), ('stall', 2), ('stand', 46), ('standard', 59), ('standout', 3), ('standpoint', 1), ('stapl', 6), ('star', 310), ('stardust', 1), ('stare', 2), ('stark', 1), ('start', 65), ('starter', 6), ('startl', 1), ('starv', 13), ('state', 6), ('statement', 1), ('stati', 1), ('station', 254), ('statu', 1), ('statur', 1), ('status', 3), ('stay', 63), ('steak', 128), ('steakhous', 11), ('steal', 7), ('stealth', 1), ('steam', 32), ('steamer', 4), ('steami', 3), ('steel', 3), ('steep', 15), ('steer', 2), ('stellar', 16), ('stem', 3), ('step', 11), ('stew', 5), ('sti', 1), ('stick', 15), ('sticker', 1), ('sticki', 12), ('stiff', 2), ('stifl', 1), ('still', 232), ('sting', 1), ('stingi', 1), ('stink', 1), ('stip', 1), ('stir', 9), ('stock', 8), ('stoic', 2), ('stoke', 1), ('stole', 1), ('stomach', 46), ('stone', 4), ('stood', 27), ('stop', 65), ('stopper', 1), ('store', 17), ('stori', 13), ('storm', 1), ('straggler', 1), ('straight', 7), ('strang', 4), ('strateg', 1), ('stratopher', 1), ('stratospher', 1), ('straw', 3), ('strawberri', 44), ('stray', 1), ('stream', 2), ('street', 49), ('streetsid', 1), ('strength', 4), ('stress', 5), ('stretch', 1), ('strike', 5), ('string', 3), ('stringi', 1), ('strip', 375), ('stripmal', 2), ('stroke', 1), ('stroll', 2), ('strong', 21), ('struck', 1), ('structur', 1), ('struggl', 3), ('stuck', 11), ('stuckup', 2), ('student', 3), ('studio', 3), ('stuf', 26), ('stuff', 66), ('stuffi', 4), ('stumbl', 3), ('stumptown', 1), ('stun', 8), ('stupid', 2), ('style', 41), ('stylish', 3), ('su', 2), ('suan', 6), ('suav', 1), ('sub', 31), ('subpar', 17), ('subsequ', 1), ('substanc', 5), ('substanti', 4), ('substituion', 1), ('substitut', 1), ('subt', 1), ('subtl', 7), ('subway', 15), ('success', 1), ('succul', 5), ('suck', 30), ('sucker', 4), ('sudden', 5), ('suffer', 2), ('suffic', 3), ('suffici', 1), ('sugar', 25), ('suggest', 28), ('sui', 2), ('suit', 8), ('sukkerfri', 1), ('sum', 42), ('summari', 6), ('summer', 7), ('sumptuous', 1), ('sun', 2), ('sunda', 23), ('sunday', 33), ('sunlight', 4), ('sunset', 1), ('supeb', 2), ('super', 116), ('superb', 24), ('superfantas', 2), ('superior', 8), ('supermarket', 2), ('supplant', 2), ('suppli', 1), ('support', 3), ('suppos', 26), ('supris', 2), ('sure', 166), ('surf', 2), ('surfac', 3), ('surpass', 7), ('surpris', 86), ('surrend', 2), ('surround', 4), ('survic', 1), ('surviv', 1), ('sush', 2), ('sushi', 245), ('sushimi', 1), ('suspect', 1), ('svc', 2), ('swallow', 2), ('swamp', 1), ('swanki', 6), ('swankier', 2), ('swap', 1), ('swear', 4), ('sweat', 4), ('sweet', 118), ('sweeter', 3), ('sweeti', 1), ('swept', 2), ('swift', 2), ('swiss', 3), ('switch', 5), ('swordfish', 1), ('swore', 2), ('symon', 1), ('synonym', 2), ('syrup', 5), ('system', 10), ('t1msmpa', 2), ('ta', 6), ('tab', 2), ('tabasco', 2), ('tabl', 272), ('tablespoon', 2), ('tablet', 1), ('tacki', 2), ('taco', 39), ('tad', 9), ('tag', 33), ('tagliatell', 2), ('tail', 5), ('taint', 1), ('taiwan', 3), ('taiwanes', 3), ('take', 197), ('takecar', 1), ('taken', 18), ('takeout', 3), ('taker', 2), ('tako', 1), ('takoyaki', 1), ('talent', 1), ('talk', 35), ('tall', 8), ('taller', 1), ('tamal', 1), ('tamarind', 2), ('tangerin', 1), ('tangi', 2), ('tank', 4), ('tap', 4), ('tapa', 11), ('tar', 2), ('tart', 11), ('tartar', 12), ('task', 4), ('tast', 486), ('tastebud', 3), ('tasteless', 16), ('taster', 1), ('tasti', 177), ('tastic', 1), ('tastier', 1), ('tastiest', 1), ('tatar', 1), ('tater', 10), ('tattoo', 1), ('taught', 2), ('tax', 17), ('taxan', 1), ('taxi', 2), ('tay', 1), ('tea', 24), ('teach', 1), ('team', 2), ('tearey', 1), ('technic', 4), ('techniqu', 6), ('technolog', 1), ('tee', 2), ('teenag', 1), ('teeth', 2), ('televis', 2), ('tell', 54), ('temp', 2), ('temperatur', 3), ('tempo', 1), ('temporarili', 1), ('tempt', 5), ('temptat', 1), ('tempura', 11), ('ten', 4), ('tend', 9), ('tender', 43), ('tenderest', 1), ('tenderloin', 4), ('tenfold', 1), ('tenni', 1), ('teodora', 2), ('teriyaki', 4), ('term', 22), ('terrac', 8), ('terribl', 53), ('terrif', 23), ('terrin', 2), ('territori', 1), ('test', 2), ('tetri', 1), ('texa', 3), ('text', 9), ('textur', 28), ('tgif', 1), ('thai', 255), ('thailand', 13), ('thalia', 3), ('thank', 44), ('thanksgiv', 10), ('that', 4), ('thaw', 6), ('theater', 6), ('theatr', 2), ('thee', 4), ('theeee', 1), ('theme', 11), ('themselv', 2), ('thep', 1), ('there', 6), ('therefor', 1), ('thereof', 1), ('thick', 21), ('thier', 3), ('thigh', 2), ('thin', 28), ('thine', 1), ('thing', 326), ('think', 286), ('thinner', 3), ('third', 10), ('thirti', 2), ('thius', 1), ('tho', 7), ('thom', 1), ('thong', 1), ('thorough', 5), ('thou', 2), ('though', 214), ('thought', 144), ('thougt', 1), ('thousand', 4), ('three', 55), ('threw', 4), ('thrid', 1), ('thrill', 2), ('throughout', 20), ('throw', 10), ('thru', 2), ('tht', 1), ('thumb', 5), ('thur', 1), ('thursday', 3), ('thus', 4), ('ti', 1), ('tib', 1), ('tick', 1), ('ticket', 14), ('tidbit', 1), ('tie', 1), ('tier', 8), ('tight', 1), ('tikka', 1), ('til', 2), ('till', 7), ('tillamook', 2), ('time', 675), ('tin', 3), ('ting', 2), ('tini', 38), ('tiniest', 1), ('tip', 44), ('tiramisu', 12), ('tire', 6), ('tit', 1), ('titl', 3), ('toast', 48), ('toasti', 2), ('todai', 1), ('today', 6), ('toffe', 2), ('tofu', 6), ('togeth', 19), ('toilet', 1), ('tok', 3), ('tokyo', 1), ('told', 55), ('toler', 1), ('tom', 18), ('tomato', 31), ('tomatoey', 1), ('tome', 1), ('ton', 77), ('tone', 5), ('tong', 1), ('tongu', 2), ('tonight', 3), ('tonkatsu', 2), ('tonkotsu', 2), ('tonn', 2), ('took', 103), ('toon', 2), ('tooth', 11), ('toothbrush', 1), ('top', 208), ('topeka', 2), ('topiari', 1), ('topic', 1), ('tornado', 1), ('toro', 1), ('torta', 1), ('tortelini', 3), ('toss', 4), ('tot', 12), ('total', 73), ('touch', 23), ('tough', 20), ('tour', 1), ('tourist', 17), ('touristi', 3), ('tournament', 1), ('tout', 3), ('toward', 15), ('tower', 16), ('town', 61), ('towner', 1), ('toy', 1), ('traci', 1), ('track', 1), ('trade', 2), ('tradion', 2), ('tradit', 29), ('traffic', 5), ('train', 6), ('trait', 2), ('tramezzini', 3), ('tranquil', 1), ('transit', 2), ('transluc', 1), ('transport', 3), ('trap', 3), ('trashi', 3), ('trattoria', 2), ('traumat', 1), ('travel', 6), ('travi', 1), ('tray', 10), ('treasur', 1), ('treat', 41), ('treatment', 5), ('tree', 1), ('trek', 3), ('trekk', 1), ('tremend', 3), ('trend', 1), ('trendi', 20), ('trendiest', 2), ('tri', 493), ('trick', 8), ('tricki', 2), ('trio', 2), ('trip', 103), ('tripe', 2), ('tripl', 3), ('tristat', 1), ('trivial', 1), ('troubl', 4), ('trough', 5), ('trout', 3), ('true', 5), ('trueli', 1), ('truffl', 45), ('truli', 39), ('trump', 1), ('trust', 15), ('truth', 6), ('tsa', 1), ('tuck', 1), ('tuesday', 9), ('tummi', 7), ('tuna', 36), ('tunnel', 2), ('tupperwar', 1), ('turf', 2), ('turkey', 29), ('turn', 31), ('turnaround', 1), ('turner', 1), ('turnip', 3), ('tv', 9), ('tweet', 1), ('twenti', 2), ('twice', 38), ('twin', 2), ('twist', 9), ('two', 146), ('tx', 1), ('txting', 1), ('type', 91), ('typic', 63), ('u', 301), ('uber', 3), ('ubiquit', 1), ('udon', 3), ('ue', 1), ('ugh', 3), ('ugli', 2), ('uh', 2), ('ultim', 4), ('ultra', 4), ('um', 2), ('umami', 1), ('umbrella', 3), ('un', 3), ('unaccept', 2), ('unaccet', 1), ('unapp', 3), ('unappet', 9), ('unappreci', 2), ('unassum', 2), ('unattend', 1), ('unattract', 5), ('unawar', 1), ('unbeat', 2), ('unbeliev', 13), ('uncar', 1), ('uncl', 3), ('uncomfort', 7), ('uncommon', 2), ('uncontrol', 1), ('uncourt', 1), ('unda', 1), ('undefin', 1), ('undercook', 1), ('underestim', 2), ('undermin', 2), ('underneath', 1), ('unders', 1), ('underseason', 2), ('underst', 3), ('understaf', 1), ('understand', 27), ('understood', 1), ('underwhelm', 13), ('undesir', 1), ('uneat', 1), ('unexpect', 3), ('unfair', 2), ('unfamiliar', 2), ('unforgett', 1), ('unfortun', 41), ('unfresh', 1), ('unfriend', 9), ('ungrac', 1), ('unhappi', 8), ('unhelp', 3), ('unherald', 3), ('uni', 1), ('unidentifi', 1), ('uniform', 6), ('unimpress', 11), ('uninspir', 1), ('uninterest', 1), ('uninvit', 1), ('union', 1), ('uniqu', 66), ('unisex', 2), ('unit', 4), ('univers', 4), ('unknown', 1), ('unless', 36), ('unlik', 17), ('unlimit', 20), ('unluckiest', 2), ('unluckili', 3), ('unmatch', 3), ('unnecessari', 3), ('unneed', 2), ('unobtrus', 2), ('unparallel', 2), ('unpleas', 2), ('unpretensi', 4), ('unprofession', 9), ('unprovok', 1), ('unreal', 1), ('unremark', 3), ('unruli', 1), ('unsatisfi', 2), ('unsavori', 1), ('unseason', 1), ('unsophist', 3), ('unten', 1), ('unusu', 9), ('unwant', 1), ('unwelcom', 4), ('up', 3), ('upbeat', 3), ('updat', 7), ('upon', 16), ('upper', 13), ('uppereast', 1), ('upscal', 32), ('upset', 9), ('upsid', 1), ('upstair', 1), ('upstat', 1), ('upward', 1), ('ur', 1), ('urban', 3), ('urchin', 1), ('urg', 4), ('urgenc', 1), ('usa', 4), ('usabl', 1), ('usal', 2), ('use', 102), ('user_local_photo', 5), ('userid', 5), ('usha', 1), ('usual', 87), ('util', 3), ('utter', 4), ('uw', 6), ('v', 10), ('vacat', 10), ('vaga', 1), ('valentin', 1), ('valley', 2), ('valu', 87), ('vamp', 1), ('vanilla', 14), ('vari', 16), ('variat', 4), ('varieti', 256), ('various', 20), ('vast', 27), ('vat', 4), ('vdlsre', 1), ('veal', 12), ('veeerryyi', 1), ('veg', 4), ('vega', 882), ('vegaaaaa', 1), ('vegan', 22), ('vegat', 2), ('veget', 24), ('vegetarian', 42), ('veggi', 17), ('vegitarian', 1), ('velvet', 11), ('vendor', 1), ('venetian', 3), ('vent', 3), ('ventur', 7), ('venu', 11), ('verd', 2), ('verdict', 5), ('verg', 3), ('verifi', 2), ('vermicelli', 1), ('version', 22), ('versus', 5), ('veryyi', 1), ('veryyyy', 4), ('veteran', 1), ('vibe', 40), ('vibrant', 2), ('victor', 2), ('vietnames', 3), ('view', 259), ('villa', 3), ('villag', 13), ('vinaigrett', 2), ('vindaloo', 1), ('vinegar', 6), ('vintag', 2), ('violent', 1), ('vip', 10), ('virtual', 6), ('visibl', 2), ('visit', 145), ('visitor', 3), ('visual', 13), ('vittorio', 2), ('vodka', 4), ('voic', 6), ('volar', 3), ('volum', 2), ('vomit', 2), ('vote', 3), ('vow', 4), ('vt', 2), ('w', 40), ('waaaay', 1), ('waayi', 1), ('wad', 1), ('waffl', 72), ('wagyu', 4), ('wait', 563), ('waiter', 153), ('waitperson', 1), ('waitress', 99), ('waitstaff', 21), ('wal', 1), ('waldorf', 1), ('walk', 121), ('walker', 1), ('walkup', 1), ('wall', 15), ('wallet', 6), ('walmart', 1), ('walnut', 7), ('waltz', 2), ('wan', 7), ('wander', 4), ('want', 295), ('warm', 71), ('warmer', 11), ('warn', 21), ('warrant', 8), ('wasab', 2), ('wasabi', 3), ('wash', 5), ('wasnt', 12), ('wast', 48), ('watch', 90), ('watchout', 1), ('water', 100), ('wateri', 5), ('watermelon', 5), ('wave', 2), ('way', 227), ('wayyy', 3), ('wayyyyy', 1), ('wayyyyyi', 2), ('weak', 7), ('wear', 10), ('weari', 1), ('weather', 11), ('websit', 2), ('wed', 3), ('wedg', 1), ('wednesday', 5), ('week', 25), ('weekday', 17), ('weekend', 51), ('weeknight', 1), ('weigh', 2), ('weight', 2), ('weightwatch', 1), ('weird', 15), ('weirdest', 2), ('welcom', 15), ('welcon', 1), ('well', 361), ('wellington', 8), ('welll', 2), ('went', 169), ('werent', 3), ('wereoff', 2), ('wesley', 1), ('west', 9), ('western', 2), ('wet', 5), ('what', 1), ('whatev', 18), ('whatnot', 1), ('whatsoev', 2), ('wheat', 3), ('wheel', 1), ('whenev', 10), ('wherev', 2), ('whether', 11), ('whimsic', 9), ('whip', 9), ('whirlwind', 2), ('whisk', 1), ('whiskey', 3), ('white', 24), ('whoever', 2), ('whole', 66), ('wholesom', 1), ('whomev', 1), ('whomp', 2), ('whoopi', 4), ('wick', 141), ('wicket', 2), ('wide', 53), ('wider', 3), ('wife', 29), ('wifey', 1), ('wifi', 1), ('wild', 6), ('will', 15), ('willa', 1), ('willi', 3), ('williamsburg', 2), ('wilt', 1), ('win', 15), ('wind', 5), ('window', 16), ('wine', 174), ('wing', 25), ('winner', 11), ('winni', 2), ('winter', 5), ('wipe', 3), ('wire', 2), ('wise', 25), ('wish', 70), ('with', 3), ('within', 25), ('without', 78), ('wnat', 1), ('woefulli', 1), ('woke', 3), ('wolfgang', 2), ('woman', 5), ('wonder', 133), ('wonderful', 3), ('wonderland', 6), ('wondrous', 3), ('wong', 2), ('wonka', 4), ('wont', 6), ('wonton', 5), ('wood', 3), ('wooden', 3), ('woodi', 1), ('woonsen', 2), ('word', 21), ('work', 77), ('worker', 12), ('world', 65), ('worri', 13), ('wors', 24), ('worst', 53), ('worth', 452), ('worthi', 13), ('worthwhil', 6), ('woudn', 3), ('woukd', 1), ('would', 552), ('woulda', 2), ('wouldnt', 2), ('wow', 41), ('wrap', 16), ('write', 27), ('writer', 1), ('written', 2), ('wrong', 65), ('wrote', 1), ('wrpctwh6p8ce12luq', 2), ('www', 10), ('wynn', 164), ('x', 5), ('xiao', 2), ('ya', 4), ('yaasssss', 1), ('yack', 1), ('yakitori', 1), ('yard', 1), ('yardbird', 1), ('yawn', 1), ('yay', 2), ('yayyy', 1), ('yeaa', 1), ('yeah', 15), ('year', 92), ('yell', 6), ('yellow', 6), ('yellowtail', 1), ('yelp', 32), ('yelper', 8), ('yes', 85), ('yesterday', 7), ('yet', 44), ('yield', 1), ('yogurt', 3), ('yolk', 4), ('yon', 2), ('york', 26), ('yorker', 2), ('yorki', 1), ('young', 7), ('younger', 2), ('your', 1), ('yourself', 1), ('yuck', 2), ('yucki', 1), ('yuka', 1), ('yum', 28), ('yummi', 60), ('yummmi', 2), ('yup', 4), ('z', 1), ('zac', 3), ('zach', 1), ('ze', 1), ('zero', 2), ('zing', 1), ('zombi', 1), ('zone', 5), ('zoom', 3)]\n"
     ]
    }
   ],
   "source": [
    "from collections import Counter\n",
    "\n",
    "count=Counter(\" \".join(yelp.lemma).split(\" \")).items()\n",
    "print(sorted(count))"
   ]
  },
  {
   "cell_type": "code",
   "execution_count": 16,
   "metadata": {},
   "outputs": [
    {
     "data": {
      "text/plain": [
       "5276"
      ]
     },
     "execution_count": 16,
     "metadata": {},
     "output_type": "execute_result"
    }
   ],
   "source": [
    "len(count)\n"
   ]
  },
  {
   "cell_type": "code",
   "execution_count": 17,
   "metadata": {},
   "outputs": [
    {
     "name": "stdout",
     "output_type": "stream",
     "text": [
      "like singl littl dish put tast portion deep fri broccoli chees casserol surpris favorit american plate love littl bucket tater tot waffl fri mini fri basket piec fri chicken sweet potato fri brisket nice rub outsid like option bbq sauc red velvet whoopi pie soft point flavor authent rendit dessert varieti cupcak cooki bread pud uniqu gelato flavor made order crepe sugar free dessert ton choos midlight good amount empti spot item look good guess popular ran lowlight shrimp cold one tast bit fishi hot one head overlook spici fri fish excit dish great probabl sit meat inconsist dri item great buffet other mediocr\n"
     ]
    }
   ],
   "source": [
    "print(max(yelp.lemma, key=len))"
   ]
  },
  {
   "cell_type": "code",
   "execution_count": null,
   "metadata": {
    "collapsed": true
   },
   "outputs": [],
   "source": [
    "# print(model)"
   ]
  },
  {
   "cell_type": "code",
   "execution_count": null,
   "metadata": {
    "collapsed": true
   },
   "outputs": [],
   "source": [
    "# from sklearn.decomposition import PCA\n",
    "# from matplotlib import pyplot\n",
    "# X = model[model.wv.vocab]\n",
    "# pca = PCA(n_components=2)\n",
    "# result = pca.fit_transform(X)\n",
    "# # create a scatter plot of the projection\n",
    "# pyplot.scatter(result[:, 0], result[:, 1])\n",
    "# words = list(model.wv.vocab)\n",
    "# for i, word in enumerate(words):\n",
    "# \tpyplot.annotate(word, xy=(result[i, 0], result[i, 1]))\n",
    "# pyplot.show()"
   ]
  },
  {
   "cell_type": "code",
   "execution_count": 27,
   "metadata": {},
   "outputs": [
    {
     "ename": "ModuleNotFoundError",
     "evalue": "No module named 'lda2vec'",
     "output_type": "error",
     "traceback": [
      "\u001b[1;31m---------------------------------------------------------------------------\u001b[0m",
      "\u001b[1;31mModuleNotFoundError\u001b[0m                       Traceback (most recent call last)",
      "\u001b[1;32m<ipython-input-27-42097bca18bf>\u001b[0m in \u001b[0;36m<module>\u001b[1;34m()\u001b[0m\n\u001b[1;32m----> 1\u001b[1;33m \u001b[1;32mfrom\u001b[0m \u001b[0mlda2vec\u001b[0m \u001b[1;32mimport\u001b[0m \u001b[0mpreprocess\u001b[0m\u001b[1;33m,\u001b[0m \u001b[0mCorpus\u001b[0m\u001b[1;33m\u001b[0m\u001b[0m\n\u001b[0m\u001b[0;32m      2\u001b[0m \u001b[1;32mimport\u001b[0m \u001b[0mmatplotlib\u001b[0m\u001b[1;33m.\u001b[0m\u001b[0mpyplot\u001b[0m \u001b[1;32mas\u001b[0m \u001b[0mplt\u001b[0m\u001b[1;33m\u001b[0m\u001b[0m\n\u001b[0;32m      3\u001b[0m \u001b[1;32mimport\u001b[0m \u001b[0mnumpy\u001b[0m \u001b[1;32mas\u001b[0m \u001b[0mnp\u001b[0m\u001b[1;33m\u001b[0m\u001b[0m\n\u001b[0;32m      4\u001b[0m \u001b[0mget_ipython\u001b[0m\u001b[1;33m(\u001b[0m\u001b[1;33m)\u001b[0m\u001b[1;33m.\u001b[0m\u001b[0mmagic\u001b[0m\u001b[1;33m(\u001b[0m\u001b[1;34m'matplotlib inline'\u001b[0m\u001b[1;33m)\u001b[0m\u001b[1;33m\u001b[0m\u001b[0m\n\u001b[0;32m      5\u001b[0m \u001b[1;33m\u001b[0m\u001b[0m\n",
      "\u001b[1;31mModuleNotFoundError\u001b[0m: No module named 'lda2vec'"
     ]
    }
   ],
   "source": [
    "from lda2vec import preprocess, Corpus\n",
    "import matplotlib.pyplot as plt\n",
    "import numpy as np\n",
    "%matplotlib inline\n",
    "\n",
    "try:\n",
    "    import seaborn\n",
    "except:\n",
    "    pass"
   ]
  },
  {
   "cell_type": "code",
   "execution_count": null,
   "metadata": {
    "collapsed": true
   },
   "outputs": [],
   "source": [
    "batch_size = 128\n",
    "embedding_size = 128  # Dimension of the embedding vector.\n",
    "skip_window = 1       # How many words to consider left and right.\n",
    "num_skips = 2   "
   ]
  },
  {
   "cell_type": "code",
   "execution_count": null,
   "metadata": {
    "collapsed": true
   },
   "outputs": [],
   "source": [
    "# import tensorflow as tf\n",
    "# import numpy as np\n",
    "# valid_size = 16     # Random set of words to evaluate similarity on.\n",
    "# valid_window = 100  # Only pick dev samples in the head of the distribution.\n",
    "# valid_examples = np.random.choice(valid_window, valid_size, replace=False)\n",
    "# train_inputs = tf.placeholder(tf.int32, shape=[batch_size])\n",
    "# train_labels = tf.placeholder(tf.int32, shape=[batch_size, 1])\n",
    "# valid_dataset = tf.constant(valid_examples, dtype=tf.int32)"
   ]
  },
  {
   "cell_type": "code",
   "execution_count": null,
   "metadata": {
    "collapsed": true
   },
   "outputs": [],
   "source": [
    "# embeddings = tf.Variable(\n",
    "#     tf.random_uniform([vocabulary_size, embedding_size], -1.0, 1.0))\n",
    "# embed = tf.nn.embedding_lookup(embeddings, train_inputs)"
   ]
  },
  {
   "cell_type": "code",
   "execution_count": 24,
   "metadata": {},
   "outputs": [
    {
     "ename": "TypeError",
     "evalue": "doc2bow expects an array of unicode tokens on input, not a single string",
     "output_type": "error",
     "traceback": [
      "\u001b[1;31m---------------------------------------------------------------------------\u001b[0m",
      "\u001b[1;31mTypeError\u001b[0m                                 Traceback (most recent call last)",
      "\u001b[1;32m<ipython-input-24-2268f3762e50>\u001b[0m in \u001b[0;36m<module>\u001b[1;34m()\u001b[0m\n\u001b[0;32m     24\u001b[0m \u001b[0mvocab_size\u001b[0m \u001b[1;33m=\u001b[0m \u001b[1;36m5248\u001b[0m\u001b[1;33m\u001b[0m\u001b[0m\n\u001b[0;32m     25\u001b[0m \u001b[1;31m#encoded_docs = [one_hot(d, vocab_size) for d in yelp.lemma]\u001b[0m\u001b[1;33m\u001b[0m\u001b[1;33m\u001b[0m\u001b[0m\n\u001b[1;32m---> 26\u001b[1;33m \u001b[0mdoc_term_matrix\u001b[0m \u001b[1;33m=\u001b[0m \u001b[1;33m[\u001b[0m\u001b[0mdictionary\u001b[0m\u001b[1;33m.\u001b[0m\u001b[0mdoc2bow\u001b[0m\u001b[1;33m(\u001b[0m\u001b[0mdoc\u001b[0m\u001b[1;33m)\u001b[0m \u001b[1;32mfor\u001b[0m \u001b[0mdoc\u001b[0m \u001b[1;32min\u001b[0m \u001b[0myelp\u001b[0m\u001b[1;33m.\u001b[0m\u001b[0mlemma\u001b[0m\u001b[1;33m]\u001b[0m\u001b[1;33m\u001b[0m\u001b[0m\n\u001b[0m\u001b[0;32m     27\u001b[0m \u001b[0mprint\u001b[0m\u001b[1;33m(\u001b[0m\u001b[0mdoc_term_matrix\u001b[0m\u001b[1;33m)\u001b[0m\u001b[1;33m\u001b[0m\u001b[0m\n\u001b[0;32m     28\u001b[0m \u001b[1;31m#print(encoded_docs)\u001b[0m\u001b[1;33m\u001b[0m\u001b[1;33m\u001b[0m\u001b[0m\n",
      "\u001b[1;32m<ipython-input-24-2268f3762e50>\u001b[0m in \u001b[0;36m<listcomp>\u001b[1;34m(.0)\u001b[0m\n\u001b[0;32m     24\u001b[0m \u001b[0mvocab_size\u001b[0m \u001b[1;33m=\u001b[0m \u001b[1;36m5248\u001b[0m\u001b[1;33m\u001b[0m\u001b[0m\n\u001b[0;32m     25\u001b[0m \u001b[1;31m#encoded_docs = [one_hot(d, vocab_size) for d in yelp.lemma]\u001b[0m\u001b[1;33m\u001b[0m\u001b[1;33m\u001b[0m\u001b[0m\n\u001b[1;32m---> 26\u001b[1;33m \u001b[0mdoc_term_matrix\u001b[0m \u001b[1;33m=\u001b[0m \u001b[1;33m[\u001b[0m\u001b[0mdictionary\u001b[0m\u001b[1;33m.\u001b[0m\u001b[0mdoc2bow\u001b[0m\u001b[1;33m(\u001b[0m\u001b[0mdoc\u001b[0m\u001b[1;33m)\u001b[0m \u001b[1;32mfor\u001b[0m \u001b[0mdoc\u001b[0m \u001b[1;32min\u001b[0m \u001b[0myelp\u001b[0m\u001b[1;33m.\u001b[0m\u001b[0mlemma\u001b[0m\u001b[1;33m]\u001b[0m\u001b[1;33m\u001b[0m\u001b[0m\n\u001b[0m\u001b[0;32m     27\u001b[0m \u001b[0mprint\u001b[0m\u001b[1;33m(\u001b[0m\u001b[0mdoc_term_matrix\u001b[0m\u001b[1;33m)\u001b[0m\u001b[1;33m\u001b[0m\u001b[0m\n\u001b[0;32m     28\u001b[0m \u001b[1;31m#print(encoded_docs)\u001b[0m\u001b[1;33m\u001b[0m\u001b[1;33m\u001b[0m\u001b[0m\n",
      "\u001b[1;32mC:\\Users\\conor\\Anaconda3\\lib\\site-packages\\gensim\\corpora\\dictionary.py\u001b[0m in \u001b[0;36mdoc2bow\u001b[1;34m(self, document, allow_update, return_missing)\u001b[0m\n\u001b[0;32m    231\u001b[0m         \"\"\"\n\u001b[0;32m    232\u001b[0m         \u001b[1;32mif\u001b[0m \u001b[0misinstance\u001b[0m\u001b[1;33m(\u001b[0m\u001b[0mdocument\u001b[0m\u001b[1;33m,\u001b[0m \u001b[0mstring_types\u001b[0m\u001b[1;33m)\u001b[0m\u001b[1;33m:\u001b[0m\u001b[1;33m\u001b[0m\u001b[0m\n\u001b[1;32m--> 233\u001b[1;33m             \u001b[1;32mraise\u001b[0m \u001b[0mTypeError\u001b[0m\u001b[1;33m(\u001b[0m\u001b[1;34m\"doc2bow expects an array of unicode tokens on input, not a single string\"\u001b[0m\u001b[1;33m)\u001b[0m\u001b[1;33m\u001b[0m\u001b[0m\n\u001b[0m\u001b[0;32m    234\u001b[0m \u001b[1;33m\u001b[0m\u001b[0m\n\u001b[0;32m    235\u001b[0m         \u001b[1;31m# Construct (word, frequency) mapping.\u001b[0m\u001b[1;33m\u001b[0m\u001b[1;33m\u001b[0m\u001b[0m\n",
      "\u001b[1;31mTypeError\u001b[0m: doc2bow expects an array of unicode tokens on input, not a single string"
     ]
    }
   ],
   "source": [
    "from numpy import array\n",
    "from keras.preprocessing.text import one_hot\n",
    "from keras.preprocessing.sequence import pad_sequences\n",
    "from keras.models import Sequential\n",
    "from keras.layers import Dense\n",
    "from keras.layers import Flatten\n",
    "from keras.layers.embeddings import Embedding\n",
    "from sklearn.preprocessing import LabelEncoder\n",
    "from keras.utils import np_utils\n",
    "from sklearn.model_selection import train_test_split\n",
    "# define documents\n",
    "\n",
    "# define class labels\n",
    "encoder = LabelEncoder()\n",
    "encoder.fit(yelp.category)\n",
    "encoded_Y = encoder.transform(yelp.category)\n",
    "# convert integers to dummy variables (i.e. one hot encoded)\n",
    "dummy_y = np_utils.to_categorical(encoded_Y)\n",
    "import gensim\n",
    "from gensim import corpora\n",
    "from gensim.corpora import Dictionary\n",
    "dictionary=Dictionary([list(yelp.lemma)])\n",
    "# integer encode the documents\n",
    "vocab_size = 5248\n",
    "#encoded_docs = [one_hot(d, vocab_size) for d in yelp.lemma]\n",
    "doc_term_matrix = [dictionary.doc2bow(doc) for doc in yelp.lemma]\n",
    "print(doc_term_matrix)\n",
    "#print(encoded_docs)\n",
    "# pad documents to a max length of 4 words\n",
    "max_length = 102\n",
    "#padded_docs = pad_sequences(encoded_docs, maxlen=max_length, padding='post')\n",
    "\n",
    "\n",
    "#X_train, X_test, y_train, y_test = train_test_split(padded_docs,dummy_y,test_size=0.1)\n",
    "\n",
    "Lda = gensim.models.ldamodel.LdaModel\n",
    "\n",
    "# Running and Trainign LDA model on the document term matrix.\n",
    "ldamodel = Lda(doc_term_matrix, num_topics=12, id2word = dictionary, passes=50)\n",
    "\n",
    "# evaluate the model\n",
    "#y_pred=model.predict(X_test)\n",
    "print(ldamodel.print_topics(num_topics=3, num_words=3))"
   ]
  },
  {
   "cell_type": "code",
   "execution_count": null,
   "metadata": {
    "collapsed": true
   },
   "outputs": [],
   "source": [
    "# from sklearn.metrics import confusion_matrix\n",
    "# conf_mat = confusion_matrix(y_test, y_pred)\n",
    "# fig, ax = plt.subplots(figsize=(10,10))\n",
    "# sns.heatmap(conf_mat, annot=True, fmt='d',\n",
    "#             xticklabels=category_id_df.category.values, yticklabels=category_id_df.category.values)\n",
    "# plt.ylabel('Actual')\n",
    "# plt.xlabel('Predicted')\n",
    "# plt.show()\n",
    "loss, accuracy = model.evaluate(X_test, y_test)\n",
    "print('Accuracy: %f' % (accuracy*100))\n",
    "print('loss: %f' % (loss))"
   ]
  },
  {
   "cell_type": "code",
   "execution_count": null,
   "metadata": {
    "collapsed": true
   },
   "outputs": [],
   "source": [
    "from sklearn import metrics\n",
    "#print(metrics.classification_report(y_test, y_pred, target_names=my_df['category'].unique()))\n",
    "print(metrics.accuracy_score(X_test, y_test))"
   ]
  },
  {
   "cell_type": "code",
   "execution_count": null,
   "metadata": {
    "collapsed": true
   },
   "outputs": [],
   "source": [
    "# Creating the object for LDA model using gensim library\n",
    "Lda = gensim.models.ldamodel.LdaModel\n",
    "\n",
    "# Running and Trainign LDA model on the document term matrix.\n",
    "ldamodel = Lda(doc_term_matrix, num_topics=12, id2word = dictionary, passes=50)"
   ]
  },
  {
   "cell_type": "code",
   "execution_count": null,
   "metadata": {
    "collapsed": true
   },
   "outputs": [],
   "source": [
    "print(y_test[0])"
   ]
  },
  {
   "cell_type": "code",
   "execution_count": null,
   "metadata": {
    "collapsed": true
   },
   "outputs": [],
   "source": [
    "# from lda2vec import LDA2Vec\n",
    "# n_words = 10\n",
    "# n_docs = 15\n",
    "# n_hidden = 8\n",
    "# n_topics = 2\n",
    "# n_obs = 300\n",
    "# words = np.random.randint(n_words, size=(n_obs))\n",
    "# _, counts = np.unique(words, return_counts=True)\n",
    "# model = LDA2Vec(n_words, n_hidden, counts)\n",
    "# model.add_categorical_feature(n_docs, n_topics, name='document id')\n",
    "# model.finalize()\n",
    "# doc_ids = np.arange(n_obs) % n_docs\n",
    "# loss = model.fit_partial(words, 1.0, categorical_features=doc_ids)"
   ]
  },
  {
   "cell_type": "code",
   "execution_count": null,
   "metadata": {
    "collapsed": true
   },
   "outputs": [],
   "source": []
  }
 ],
 "metadata": {
  "kernelspec": {
   "display_name": "Python 3",
   "language": "python",
   "name": "python3"
  },
  "language_info": {
   "codemirror_mode": {
    "name": "ipython",
    "version": 3
   },
   "file_extension": ".py",
   "mimetype": "text/x-python",
   "name": "python",
   "nbconvert_exporter": "python",
   "pygments_lexer": "ipython3",
   "version": "3.6.1"
  }
 },
 "nbformat": 4,
 "nbformat_minor": 2
}
